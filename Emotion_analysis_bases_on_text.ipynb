{
  "cells": [
    {
      "cell_type": "markdown",
      "metadata": {
        "id": "XaHS_zSMFOaf"
      },
      "source": [
        "# 0. Abstract"
      ]
    },
    {
      "cell_type": "markdown",
      "metadata": {
        "id": "TnpfhtNHFSvy"
      },
      "source": [
        "Este proyecto se enfoca en el estudio de emociones en texto mediante modelos de análisis de sentimientos, poniendo especial atención en valorar el desempeño de varios modelos de aprendizaje automático en un amplio conjunto de datos de manifestaciones emocionales. La base de datos, que alberga más de 1.5 millones de registros, abarca información textual clasificada por varias categorías emocionales. El propósito del análisis es anticipar evaluaciones de las emociones, categorizando las emociones en dos grupos: positivas (1) y negativas (0). El procedimiento abarca etapas de preprocesamiento de datos tales como tokenización, supresión de términos de interrupción y stemming. El estudio de las emociones se lleva a cabo mediante modelos de aprendizaje automático, tales como Regresión Logística y Random Forest, y su desempeño se mide mediante indicadores como la accuracy y F1-Score.\n",
        "\n",
        "## Hipótesis:\n",
        "La hipótesis de esta investigación es que los modelos de aprendizaje automático tienen la capacidad de categorizar eficazmente las expresiones emocionales en un texto, siendo los algoritmos de Regresión Logística y Random Forest los que brinden alta exactitud en la proyección de notas de sentimientos. Adicionalmente, se supone que la supresión de emociones neutras en el conjunto de datos potenciará la habilidad del modelo para diferenciar entre emociones positivas y negativas.\n",
        "\n",
        "## Objetivos\n",
        "\n",
        "### Procesar la Colección de Datos:\n",
        "\n",
        "- El cargar y limpiar el conjunto de datos implica gestionar clases desequilibradas, eliminar emociones neutrales y normalizar las etiquetas de sentimiento.\n",
        "- Implementar métodos de preprocesamiento de texto, como la tokenización, la supresión de verbos innecesarios y la stemming, para acondicionar el texto para su modelación.\n",
        "\n",
        "### Análisis de Características:\n",
        "\n",
        "- Emplear métodos como CountVectorizer y TfidfVectorizer para transformar el texto en atributos numéricos que sean incorporables en los modelos de aprendizaje automático.\n",
        "\n",
        "### Formación de Modelos:\n",
        "\n",
        "- Desarrollar modelos de estudio de emociones, en particular Regresión Logística y Random Forest, basándose en datos de texto previamente procesados.\n",
        "- Analizar la eficacia de los modelos empleando precisión y calificación F1.\n",
        "\n",
        "### Análisis del Modelo:\n",
        "\n",
        "- Evaluar la eficacia de los distintos modelos e identificar el modelo más eficaz para la categorización de las emociones.\n",
        "- Examinar la relevancia de los atributos empleados por los modelos, como los términos más comunes que aportan a la categorización.\n",
        "\n",
        "### Descripción de los Resultados:\n",
        "\n",
        "- Examinar los hallazgos para reconocer los puntos fuertes y débiles de los modelos y ofrecer visiones acerca de las manifestaciones emocionales más predictivas en el conjunto de datos.\n"
      ]
    },
    {
      "cell_type": "markdown",
      "metadata": {
        "id": "K4Pq7wKlFU-e"
      },
      "source": [
        "# 1. Importamos librerías"
      ]
    },
    {
      "cell_type": "code",
      "execution_count": null,
      "metadata": {
        "colab": {
          "base_uri": "https://localhost:8080/"
        },
        "id": "cLv-KGcUCnff",
        "outputId": "47fa85b9-0478-4af4-9c4c-5c0232577c78"
      },
      "outputs": [
        {
          "output_type": "stream",
          "name": "stderr",
          "text": [
            "[nltk_data] Downloading package punkt to /root/nltk_data...\n",
            "[nltk_data]   Unzipping tokenizers/punkt.zip.\n",
            "[nltk_data] Downloading package stopwords to /root/nltk_data...\n",
            "[nltk_data]   Unzipping corpora/stopwords.zip.\n",
            "[nltk_data] Downloading package wordnet to /root/nltk_data...\n"
          ]
        }
      ],
      "source": [
        "import nltk # importar natural language toolkit\n",
        "nltk.download('punkt')\n",
        "nltk.download('stopwords') # modulo para descargar stopwords en diferentes idiomas\n",
        "nltk.download('wordnet')\n",
        "from nltk.corpus import stopwords\n",
        "import pandas as pd\n",
        "import numpy  as np\n",
        "import re\n",
        "import string\n",
        "import plotly\n",
        "import matplotlib.pyplot as plt\n",
        "from nltk.stem import PorterStemmer\n",
        "import time\n",
        "from nltk.corpus import stopwords\n",
        "from nltk.tokenize import word_tokenize\n",
        "from nltk.tokenize import sent_tokenize\n",
        "from sklearn.feature_extraction.text import CountVectorizer\n",
        "from sklearn.feature_extraction.text import TfidfTransformer\n",
        "from nltk.probability import FreqDist\n",
        "from wordcloud import WordCloud\n",
        "import zipfile\n",
        "import os\n",
        "from collections import Counter\n",
        "from sklearn.model_selection import train_test_split\n",
        "from sklearn.linear_model import LogisticRegression\n",
        "from sklearn.metrics import accuracy_score\n",
        "from sklearn.metrics import f1_score\n",
        "from sklearn.ensemble import RandomForestClassifier\n",
        "from sklearn.feature_extraction.text import TfidfVectorizer\n"
      ]
    },
    {
      "cell_type": "markdown",
      "metadata": {
        "id": "pxDT34WEFcdp"
      },
      "source": [
        "# 2. Cargamos dataset"
      ]
    },
    {
      "cell_type": "code",
      "execution_count": null,
      "metadata": {
        "colab": {
          "base_uri": "https://localhost:8080/"
        },
        "id": "JijzbumCBhtG",
        "outputId": "31371e46-daad-4ded-8b37-5bf256b4f805"
      },
      "outputs": [
        {
          "output_type": "stream",
          "name": "stdout",
          "text": [
            "--2025-01-27 21:53:31--  https://github.com/PGrimaldiP/emotion_text_analysis/raw/85f1941712d23ccc87f7e071d928a7c6c7af4acf/emotion_sentimen_dataset.csv.zip\n",
            "Resolving github.com (github.com)... 140.82.113.4\n",
            "Connecting to github.com (github.com)|140.82.113.4|:443... connected.\n",
            "HTTP request sent, awaiting response... 302 Found\n",
            "Location: https://raw.githubusercontent.com/PGrimaldiP/emotion_text_analysis/85f1941712d23ccc87f7e071d928a7c6c7af4acf/emotion_sentimen_dataset.csv.zip [following]\n",
            "--2025-01-27 21:53:31--  https://raw.githubusercontent.com/PGrimaldiP/emotion_text_analysis/85f1941712d23ccc87f7e071d928a7c6c7af4acf/emotion_sentimen_dataset.csv.zip\n",
            "Resolving raw.githubusercontent.com (raw.githubusercontent.com)... 185.199.108.133, 185.199.109.133, 185.199.110.133, ...\n",
            "Connecting to raw.githubusercontent.com (raw.githubusercontent.com)|185.199.108.133|:443... connected.\n",
            "HTTP request sent, awaiting response... 200 OK\n",
            "Length: 19577336 (19M) [application/zip]\n",
            "Saving to: ‘emotion_sentimen_dataset.zip’\n",
            "\n",
            "emotion_sentimen_da 100%[===================>]  18.67M  92.3MB/s    in 0.2s    \n",
            "\n",
            "2025-01-27 21:53:32 (92.3 MB/s) - ‘emotion_sentimen_dataset.zip’ saved [19577336/19577336]\n",
            "\n",
            "Archivos extraídos: ['__MACOSX', 'emotion_sentimen_dataset.csv']\n",
            "   Unnamed: 0                                               text  Emotion\n",
            "0           0  i seriously hate one subject to death but now ...     hate\n",
            "1           1                 im so full of life i feel appalled  neutral\n",
            "2           2  i sit here to write i start to dig out my feel...  neutral\n",
            "3           3  ive been really angry with r and i feel like a...    anger\n",
            "4           4  i feel suspicious if there is no one outside l...  neutral\n"
          ]
        }
      ],
      "source": [
        "# URL del archivo zip\n",
        "url = \"https://github.com/PGrimaldiP/emotion_text_analysis/raw/85f1941712d23ccc87f7e071d928a7c6c7af4acf/emotion_sentimen_dataset.csv.zip\"\n",
        "\n",
        "# Descargamos el archivo zip\n",
        "!wget -O emotion_sentimen_dataset.zip {url}\n",
        "\n",
        "# Creamos una carpeta para extraer el contenido\n",
        "extraction_folder = 'emotion_sentimen_dataset'\n",
        "os.makedirs(extraction_folder, exist_ok=True)\n",
        "\n",
        "# Extraemos el contenido del archivo ZIP\n",
        "with zipfile.ZipFile('emotion_sentimen_dataset.zip', 'r') as zip_ref:\n",
        "    zip_ref.extractall(extraction_folder)\n",
        "\n",
        "# Verificamos los archivos extraídos\n",
        "extracted_files = os.listdir(extraction_folder)\n",
        "print(\"Archivos extraídos:\", extracted_files)\n",
        "\n",
        "# Buscamos el archivo CSV\n",
        "csv_file_path = None\n",
        "for file in extracted_files:\n",
        "    if file.endswith('.csv'):\n",
        "        csv_file_path = os.path.join(extraction_folder, file)\n",
        "        break\n",
        "\n",
        "# Cargamos el dataset en un DataFrame\n",
        "df = pd.read_csv(csv_file_path)\n",
        "\n",
        "# Mostramos las primeras filas del DataFrame para verificar la carga\n",
        "print(df.head())\n"
      ]
    },
    {
      "cell_type": "markdown",
      "metadata": {
        "id": "NLOGuAwwFodV"
      },
      "source": [
        "# 3. EDA"
      ]
    },
    {
      "cell_type": "markdown",
      "metadata": {
        "id": "HNStJFIiFrA3"
      },
      "source": [
        "Comenzamos con un análisis preeliminar del dataset"
      ]
    },
    {
      "cell_type": "code",
      "execution_count": null,
      "metadata": {
        "colab": {
          "base_uri": "https://localhost:8080/"
        },
        "id": "ICo8HSK9Djef",
        "outputId": "c18a8639-edc6-412d-e54b-d032e40c3146"
      },
      "outputs": [
        {
          "output_type": "execute_result",
          "data": {
            "text/plain": [
              "(500047, 3)"
            ]
          },
          "metadata": {},
          "execution_count": 4
        }
      ],
      "source": [
        "df.shape"
      ]
    },
    {
      "cell_type": "markdown",
      "metadata": {
        "id": "LD1fR9sAFwfK"
      },
      "source": [
        "El primer problema o dificultad es que nos enfrentamos a un dataset con más de 1.5 millones de registros. Esto indica que muy probablemente debamos realizar una reducción de dimensionalidad debido a limitantes técnicas. Adicionalmente, es un dataset con pocas columnas, siendo la primera una columna de índice, la segunda texto y la tercera una emoción asociada al texto."
      ]
    },
    {
      "cell_type": "code",
      "execution_count": null,
      "metadata": {
        "colab": {
          "base_uri": "https://localhost:8080/",
          "height": 489
        },
        "id": "i46h4A2TGF57",
        "outputId": "ec621331-cdb4-4f8d-ffb1-41d7b2d0e70e"
      },
      "outputs": [
        {
          "output_type": "execute_result",
          "data": {
            "text/plain": [
              "Text(0, 0.5, 'Frecuencia')"
            ]
          },
          "metadata": {},
          "execution_count": 5
        },
        {
          "output_type": "display_data",
          "data": {
            "text/plain": [
              "<Figure size 640x480 with 1 Axes>"
            ],
            "image/png": "[encoded data removed]"
          },
          "metadata": {}
        }
      ],
      "source": [
        "words_per_sentence = df.text.apply(lambda x: len(x.split(\" \")))\n",
        "words_per_sentence.hist(bins = 100)\n",
        "plt.title('Numero de palabras por oración')\n",
        "plt.xlabel('Palabras')\n",
        "plt.ylabel('Frecuencia')"
      ]
    },
    {
      "cell_type": "markdown",
      "metadata": {
        "id": "IAAwj8joHer6"
      },
      "source": [
        "De la revisión vemos una distribución sesgada a la derecha, lo que indica que la gran parte de los textos es de una baja cantidad de palabra viendo una concentración mayor en el rango de 0 a 25."
      ]
    },
    {
      "cell_type": "code",
      "execution_count": null,
      "metadata": {
        "colab": {
          "base_uri": "https://localhost:8080/"
        },
        "id": "73JX4yKpIMAq",
        "outputId": "29d68889-4cf8-4e3e-b3ee-86db3096f83d"
      },
      "outputs": [
        {
          "output_type": "execute_result",
          "data": {
            "text/plain": [
              "19.214547832503744"
            ]
          },
          "metadata": {},
          "execution_count": 6
        }
      ],
      "source": [
        "words_per_sentence.mean()"
      ]
    },
    {
      "cell_type": "code",
      "execution_count": null,
      "metadata": {
        "colab": {
          "base_uri": "https://localhost:8080/",
          "height": 523
        },
        "id": "J1cdmIdZIVSb",
        "outputId": "4fec8f95-fd31-4012-cb5f-7a4ba9319549"
      },
      "outputs": [
        {
          "output_type": "execute_result",
          "data": {
            "text/plain": [
              "Emotion\n",
              "neutral       401913\n",
              "love           23390\n",
              "happiness      16248\n",
              "sadness        10382\n",
              "relief          9906\n",
              "hate            9121\n",
              "anger           7391\n",
              "fun             5950\n",
              "enthusiasm      5518\n",
              "surprise        4160\n",
              "empty           3281\n",
              "worry           2713\n",
              "boredom           74\n",
              "Name: count, dtype: int64"
            ],
            "text/html": [
              "<div>\n",
              "<style scoped>\n",
              "    .dataframe tbody tr th:only-of-type {\n",
              "        vertical-align: middle;\n",
              "    }\n",
              "\n",
              "    .dataframe tbody tr th {\n",
              "        vertical-align: top;\n",
              "    }\n",
              "\n",
              "    .dataframe thead th {\n",
              "        text-align: right;\n",
              "    }\n",
              "</style>\n",
              "<table border=\"1\" class=\"dataframe\">\n",
              "  <thead>\n",
              "    <tr style=\"text-align: right;\">\n",
              "      <th></th>\n",
              "      <th>count</th>\n",
              "    </tr>\n",
              "    <tr>\n",
              "      <th>Emotion</th>\n",
              "      <th></th>\n",
              "    </tr>\n",
              "  </thead>\n",
              "  <tbody>\n",
              "    <tr>\n",
              "      <th>neutral</th>\n",
              "      <td>401913</td>\n",
              "    </tr>\n",
              "    <tr>\n",
              "      <th>love</th>\n",
              "      <td>23390</td>\n",
              "    </tr>\n",
              "    <tr>\n",
              "      <th>happiness</th>\n",
              "      <td>16248</td>\n",
              "    </tr>\n",
              "    <tr>\n",
              "      <th>sadness</th>\n",
              "      <td>10382</td>\n",
              "    </tr>\n",
              "    <tr>\n",
              "      <th>relief</th>\n",
              "      <td>9906</td>\n",
              "    </tr>\n",
              "    <tr>\n",
              "      <th>hate</th>\n",
              "      <td>9121</td>\n",
              "    </tr>\n",
              "    <tr>\n",
              "      <th>anger</th>\n",
              "      <td>7391</td>\n",
              "    </tr>\n",
              "    <tr>\n",
              "      <th>fun</th>\n",
              "      <td>5950</td>\n",
              "    </tr>\n",
              "    <tr>\n",
              "      <th>enthusiasm</th>\n",
              "      <td>5518</td>\n",
              "    </tr>\n",
              "    <tr>\n",
              "      <th>surprise</th>\n",
              "      <td>4160</td>\n",
              "    </tr>\n",
              "    <tr>\n",
              "      <th>empty</th>\n",
              "      <td>3281</td>\n",
              "    </tr>\n",
              "    <tr>\n",
              "      <th>worry</th>\n",
              "      <td>2713</td>\n",
              "    </tr>\n",
              "    <tr>\n",
              "      <th>boredom</th>\n",
              "      <td>74</td>\n",
              "    </tr>\n",
              "  </tbody>\n",
              "</table>\n",
              "</div><br><label><b>dtype:</b> int64</label>"
            ]
          },
          "metadata": {},
          "execution_count": 7
        }
      ],
      "source": [
        "df.Emotion.value_counts()"
      ]
    },
    {
      "cell_type": "markdown",
      "metadata": {
        "id": "J3pjzVBxJVun"
      },
      "source": [
        "Notamos inmediatamente que existe un desbalanceo en los textos neutrales vs los de otras emociones."
      ]
    },
    {
      "cell_type": "code",
      "execution_count": null,
      "metadata": {
        "colab": {
          "base_uri": "https://localhost:8080/",
          "height": 556
        },
        "id": "zQ57aY9bJBFg",
        "outputId": "b10a788a-3b56-4a4a-c97b-a10199d3db18"
      },
      "outputs": [
        {
          "output_type": "execute_result",
          "data": {
            "text/plain": [
              "Text(0, 0.5, 'Porcentaje (%)')"
            ]
          },
          "metadata": {},
          "execution_count": 8
        },
        {
          "output_type": "display_data",
          "data": {
            "text/plain": [
              "<Figure size 640x480 with 1 Axes>"
            ],
            "image/png": "[encoded data removed]"
          },
          "metadata": {}
        }
      ],
      "source": [
        "percent_val = 100 * df.Emotion.value_counts()/df.shape[0]\n",
        "\n",
        "percent_val.plot.bar()\n",
        "plt.title('Revisiones por emoción')\n",
        "plt.xlabel('Emotion')\n",
        "plt.ylabel('Porcentaje (%)')"
      ]
    },
    {
      "cell_type": "markdown",
      "metadata": {
        "id": "lP6FtN_0Jss1"
      },
      "source": [
        "Predominando en torno a un 80% este tipo de textos. De todas formas, dado que queremos realizar sentiment analysis, podríamos obviar los casos neutrales y atribuir emociones \"positivas\" como 1 y \"negativas\" como 0 para estandarizar el dataset."
      ]
    },
    {
      "cell_type": "code",
      "execution_count": null,
      "metadata": {
        "colab": {
          "base_uri": "https://localhost:8080/"
        },
        "id": "gUIJmNvbKJpb",
        "outputId": "f72deb0c-1c67-4597-edd7-a6889165a29c"
      },
      "outputs": [
        {
          "output_type": "stream",
          "name": "stdout",
          "text": [
            "Sentiment_rating\n",
            "1    65172\n",
            "0    32962\n",
            "Name: count, dtype: int64\n"
          ]
        },
        {
          "output_type": "stream",
          "name": "stderr",
          "text": [
            "<ipython-input-9-f6af23e31d9e>:6: SettingWithCopyWarning: \n",
            "A value is trying to be set on a copy of a slice from a DataFrame.\n",
            "Try using .loc[row_indexer,col_indexer] = value instead\n",
            "\n",
            "See the caveats in the documentation: https://pandas.pydata.org/pandas-docs/stable/user_guide/indexing.html#returning-a-view-versus-a-copy\n",
            "  df['Sentiment_rating'] = np.where(df.Emotion.isin(positive_emotions), 1,0)\n"
          ]
        }
      ],
      "source": [
        "# removiendo neutrales\n",
        "df = df[df.Emotion != 'neutral']\n",
        "\n",
        "# Asignando Sentiment_rating según las emociones\n",
        "positive_emotions = ['love', 'happiness', 'relief', 'fun', 'enthusiasm', 'surprise']\n",
        "df['Sentiment_rating'] = np.where(df.Emotion.isin(positive_emotions), 1,0)\n",
        "\n",
        "# Contando la cantidad de cada Sentiment_rating\n",
        "print(df['Sentiment_rating'].value_counts())"
      ]
    },
    {
      "cell_type": "markdown",
      "metadata": {
        "id": "klpYT7qCKuE5"
      },
      "source": [
        "Queda un tanto desbalanceado el dataset en torno a 66 y 33% para cada categoría. Convertiremos el texto a minúscula para ver si se modifica un poco la cantidad de tokens obtendis"
      ]
    },
    {
      "cell_type": "code",
      "execution_count": null,
      "metadata": {
        "id": "znB5sTL6LMwW",
        "colab": {
          "base_uri": "https://localhost:8080/"
        },
        "outputId": "3f4b33a2-155c-4d33-b19a-5bb03f2d7c0f"
      },
      "outputs": [
        {
          "output_type": "stream",
          "name": "stderr",
          "text": [
            "<ipython-input-10-14f55b050628>:1: SettingWithCopyWarning: \n",
            "A value is trying to be set on a copy of a slice from a DataFrame.\n",
            "Try using .loc[row_indexer,col_indexer] = value instead\n",
            "\n",
            "See the caveats in the documentation: https://pandas.pydata.org/pandas-docs/stable/user_guide/indexing.html#returning-a-view-versus-a-copy\n",
            "  df['text_new'] = df.text.apply(lambda x: x.lower())\n"
          ]
        }
      ],
      "source": [
        "df['text_new'] = df.text.apply(lambda x: x.lower())"
      ]
    },
    {
      "cell_type": "code",
      "execution_count": null,
      "metadata": {
        "colab": {
          "base_uri": "https://localhost:8080/"
        },
        "id": "ASDBO3QLLS6Y",
        "outputId": "d9503abb-3e0d-41d3-8ea2-33e0237ebeb3"
      },
      "outputs": [
        {
          "output_type": "stream",
          "name": "stderr",
          "text": [
            "[nltk_data] Downloading package punkt_tab to /root/nltk_data...\n",
            "[nltk_data]   Unzipping tokenizers/punkt_tab.zip.\n"
          ]
        },
        {
          "output_type": "stream",
          "name": "stdout",
          "text": [
            "Numero de tokens unicos antes:  35094\n",
            "Numero de tokens unicos nuevos:  35094\n"
          ]
        }
      ],
      "source": [
        "nltk.download('punkt_tab')\n",
        "\n",
        "token_lists = [word_tokenize(each) for each in df.text]\n",
        "tokens = [item for sublist in token_lists for item in sublist]\n",
        "print(\"Numero de tokens unicos antes: \", len(set(tokens)))\n",
        "\n",
        "token_lists_lower = [word_tokenize(each) for each in df.text_new]\n",
        "tokens_lower = [item for sublist in token_lists_lower for item in sublist]\n",
        "print(\"Numero de tokens unicos nuevos: \", len(set(tokens_lower)))"
      ]
    },
    {
      "cell_type": "markdown",
      "metadata": {
        "id": "25sOrHGPLFh2"
      },
      "source": [
        "Vemos que no hay diferencia entre los tokens obtenidos, esto se debe a que el texto se encontraba en minúscula. Veremos si al eliminar caracteres especiales disminuye en algo el dataset para ver si podría resultar interesante eliminar estos mismos."
      ]
    },
    {
      "cell_type": "code",
      "execution_count": null,
      "metadata": {
        "colab": {
          "base_uri": "https://localhost:8080/"
        },
        "id": "c_DuwrxsMiI4",
        "outputId": "366ef137-6d13-4fcc-e88a-5ca19566037c"
      },
      "outputs": [
        {
          "output_type": "stream",
          "name": "stdout",
          "text": [
            "set()\n"
          ]
        }
      ],
      "source": [
        "# Seleccionando los caracteres no alfa numericos que no son espacios\n",
        "special_chars = df.text_new.apply(lambda x: [each for each in list(x) if not each.isalnum() and each != ' '])\n",
        "\n",
        "# obtener una lista de listas\n",
        "flat_list = [item for sublist in special_chars for item in sublist]\n",
        "\n",
        "# caracteres especiales unicos\n",
        "print(set(flat_list))"
      ]
    },
    {
      "cell_type": "markdown",
      "metadata": {
        "id": "z98OF3vVMhsM"
      },
      "source": [
        "Vemos que se generó un set vacío de caracteres, lo que nos indica que el texto no se encontraba con caracteres especiales. Por lo que no hace sentido eliminar estos mismo y mantendremos la cantidad original de tokens. Cargaremos las stopwords, es importante señalar que se debe utilizar el idioma inglés dado que el texto es en inglés."
      ]
    },
    {
      "cell_type": "code",
      "execution_count": null,
      "metadata": {
        "colab": {
          "base_uri": "https://localhost:8080/"
        },
        "id": "tC_D-s47Oawc",
        "outputId": "83799f63-ce59-48f4-a5ca-f385fd62d71b"
      },
      "outputs": [
        {
          "output_type": "stream",
          "name": "stdout",
          "text": [
            "179\n"
          ]
        },
        {
          "output_type": "stream",
          "name": "stderr",
          "text": [
            "[nltk_data] Downloading package stopwords to /root/nltk_data...\n",
            "[nltk_data]   Package stopwords is already up-to-date!\n"
          ]
        },
        {
          "output_type": "execute_result",
          "data": {
            "text/plain": [
              "['i',\n",
              " 'me',\n",
              " 'my',\n",
              " 'myself',\n",
              " 'we',\n",
              " 'our',\n",
              " 'ours',\n",
              " 'ourselves',\n",
              " 'you',\n",
              " \"you're\",\n",
              " \"you've\",\n",
              " \"you'll\",\n",
              " \"you'd\",\n",
              " 'your',\n",
              " 'yours',\n",
              " 'yourself',\n",
              " 'yourselves',\n",
              " 'he',\n",
              " 'him',\n",
              " 'his',\n",
              " 'himself',\n",
              " 'she',\n",
              " \"she's\",\n",
              " 'her',\n",
              " 'hers',\n",
              " 'herself',\n",
              " 'it',\n",
              " \"it's\",\n",
              " 'its',\n",
              " 'itself',\n",
              " 'they',\n",
              " 'them',\n",
              " 'their',\n",
              " 'theirs',\n",
              " 'themselves',\n",
              " 'what',\n",
              " 'which',\n",
              " 'who',\n",
              " 'whom',\n",
              " 'this',\n",
              " 'that',\n",
              " \"that'll\",\n",
              " 'these',\n",
              " 'those',\n",
              " 'am',\n",
              " 'is',\n",
              " 'are',\n",
              " 'was',\n",
              " 'were',\n",
              " 'be',\n",
              " 'been',\n",
              " 'being',\n",
              " 'have',\n",
              " 'has',\n",
              " 'had',\n",
              " 'having',\n",
              " 'do',\n",
              " 'does',\n",
              " 'did',\n",
              " 'doing',\n",
              " 'a',\n",
              " 'an',\n",
              " 'the',\n",
              " 'and',\n",
              " 'but',\n",
              " 'if',\n",
              " 'or',\n",
              " 'because',\n",
              " 'as',\n",
              " 'until',\n",
              " 'while',\n",
              " 'of',\n",
              " 'at',\n",
              " 'by',\n",
              " 'for',\n",
              " 'with',\n",
              " 'about',\n",
              " 'against',\n",
              " 'between',\n",
              " 'into',\n",
              " 'through',\n",
              " 'during',\n",
              " 'before',\n",
              " 'after',\n",
              " 'above',\n",
              " 'below',\n",
              " 'to',\n",
              " 'from',\n",
              " 'up',\n",
              " 'down',\n",
              " 'in',\n",
              " 'out',\n",
              " 'on',\n",
              " 'off',\n",
              " 'over',\n",
              " 'under',\n",
              " 'again',\n",
              " 'further',\n",
              " 'then',\n",
              " 'once',\n",
              " 'here',\n",
              " 'there',\n",
              " 'when',\n",
              " 'where',\n",
              " 'why',\n",
              " 'how',\n",
              " 'all',\n",
              " 'any',\n",
              " 'both',\n",
              " 'each',\n",
              " 'few',\n",
              " 'more',\n",
              " 'most',\n",
              " 'other',\n",
              " 'some',\n",
              " 'such',\n",
              " 'no',\n",
              " 'nor',\n",
              " 'not',\n",
              " 'only',\n",
              " 'own',\n",
              " 'same',\n",
              " 'so',\n",
              " 'than',\n",
              " 'too',\n",
              " 'very',\n",
              " 's',\n",
              " 't',\n",
              " 'can',\n",
              " 'will',\n",
              " 'just',\n",
              " 'don',\n",
              " \"don't\",\n",
              " 'should',\n",
              " \"should've\",\n",
              " 'now',\n",
              " 'd',\n",
              " 'll',\n",
              " 'm',\n",
              " 'o',\n",
              " 're',\n",
              " 've',\n",
              " 'y',\n",
              " 'ain',\n",
              " 'aren',\n",
              " \"aren't\",\n",
              " 'couldn',\n",
              " \"couldn't\",\n",
              " 'didn',\n",
              " \"didn't\",\n",
              " 'doesn',\n",
              " \"doesn't\",\n",
              " 'hadn',\n",
              " \"hadn't\",\n",
              " 'hasn',\n",
              " \"hasn't\",\n",
              " 'haven',\n",
              " \"haven't\",\n",
              " 'isn',\n",
              " \"isn't\",\n",
              " 'ma',\n",
              " 'mightn',\n",
              " \"mightn't\",\n",
              " 'mustn',\n",
              " \"mustn't\",\n",
              " 'needn',\n",
              " \"needn't\",\n",
              " 'shan',\n",
              " \"shan't\",\n",
              " 'shouldn',\n",
              " \"shouldn't\",\n",
              " 'wasn',\n",
              " \"wasn't\",\n",
              " 'weren',\n",
              " \"weren't\",\n",
              " 'won',\n",
              " \"won't\",\n",
              " 'wouldn',\n",
              " \"wouldn't\"]"
            ]
          },
          "metadata": {},
          "execution_count": 13
        }
      ],
      "source": [
        "nltk.download('stopwords')\n",
        "\n",
        "noise_words = []\n",
        "stopwords_corpus = nltk.corpus.stopwords\n",
        "eng_stop_words = stopwords_corpus.words('english')\n",
        "noise_words.extend(eng_stop_words)\n",
        "print(len(noise_words))\n",
        "noise_words"
      ]
    },
    {
      "cell_type": "markdown",
      "source": [
        "Luego miramos las palabras más frecuentes es decir el top 1% de palabras en los textos."
      ],
      "metadata": {
        "id": "5xjb2Z0K2wBH"
      }
    },
    {
      "cell_type": "code",
      "execution_count": null,
      "metadata": {
        "colab": {
          "base_uri": "https://localhost:8080/"
        },
        "id": "GoM6IOhTTCR0",
        "outputId": "bdd75dc4-6da7-4bf3-b0f1-03172c96dba2"
      },
      "outputs": [
        {
          "output_type": "execute_result",
          "data": {
            "text/plain": [
              "[('i', 177080),\n",
              " ('and', 79343),\n",
              " ('feel', 68127),\n",
              " ('to', 64419),\n",
              " ('the', 61381),\n",
              " ('a', 40200),\n",
              " ('that', 37060),\n",
              " ('of', 36852),\n",
              " ('feeling', 34115),\n",
              " ('my', 31986)]"
            ]
          },
          "metadata": {},
          "execution_count": 14
        }
      ],
      "source": [
        "one_percentile = int(len(set(tokens)) * 0.01)\n",
        "top_1_percentile = Counter(tokens).most_common(one_percentile)\n",
        "top_1_percentile[:10]"
      ]
    },
    {
      "cell_type": "code",
      "execution_count": null,
      "metadata": {
        "colab": {
          "base_uri": "https://localhost:8080/",
          "height": 522
        },
        "id": "XUItC7p7YsJM",
        "outputId": "26881938-a096-4a86-cad3-0a0db78c4b85"
      },
      "outputs": [
        {
          "output_type": "execute_result",
          "data": {
            "text/plain": [
              "Text(0, 0.5, 'Frecuencia')"
            ]
          },
          "metadata": {},
          "execution_count": 15
        },
        {
          "output_type": "display_data",
          "data": {
            "text/plain": [
              "<Figure size 640x480 with 1 Axes>"
            ],
            "image/png": "[encoded data removed]"
          },
          "metadata": {}
        }
      ],
      "source": [
        "pd.DataFrame(top_1_percentile[:10], columns=['Palabras','Frecuencia']).set_index('Palabras').plot(kind='bar')\n",
        "plt.title('Percentil 1 de palabras mas frecuentes')\n",
        "plt.xlabel('Palabras')\n",
        "plt.ylabel('Frecuencia')"
      ]
    },
    {
      "cell_type": "markdown",
      "metadata": {
        "id": "xD-McxkvYuKB"
      },
      "source": [
        "Vemos que las palabras más relevantes se asocacian a textos de expresión de emociones, palabras como \"yo\", \"siento\", \"sentimiento\", \"mío\" podría indicar que las sentencias tienden a ser personales."
      ]
    },
    {
      "cell_type": "code",
      "execution_count": null,
      "metadata": {
        "colab": {
          "base_uri": "https://localhost:8080/"
        },
        "id": "KKHB7Al4cXj4",
        "outputId": "44b42735-e0ee-43af-ac64-86f4ff037837"
      },
      "outputs": [
        {
          "output_type": "execute_result",
          "data": {
            "text/plain": [
              "[('plowshares', 1),\n",
              " ('bandy', 1),\n",
              " ('sonic', 1),\n",
              " ('abstruse', 1),\n",
              " ('relished', 1),\n",
              " ('backtoherroots', 1),\n",
              " ('benne', 1),\n",
              " ('rickyricardo', 1),\n",
              " ('magdalena', 1),\n",
              " ('mcconnell', 1)]"
            ]
          },
          "metadata": {},
          "execution_count": 16
        }
      ],
      "source": [
        "bottom_1_percentile = Counter(tokens).most_common()[-one_percentile:]\n",
        "bottom_1_percentile[:10]"
      ]
    },
    {
      "cell_type": "markdown",
      "source": [
        "No vemos nada muy relevante al buscar el top 1% inferior de palabras, sólo palabras extrañas o de poco uso, que se pueden atribuir a situaciones específicas. Añadiremos ambos tops a la colección de noise_words"
      ],
      "metadata": {
        "id": "HjAB5_D225xE"
      }
    },
    {
      "cell_type": "code",
      "execution_count": null,
      "metadata": {
        "id": "eiNHGScJee3o"
      },
      "outputs": [],
      "source": [
        "noise_words.extend([word for word,val in top_1_percentile])\n",
        "noise_words.extend([word for word,val in bottom_1_percentile])"
      ]
    },
    {
      "cell_type": "markdown",
      "source": [
        "# 3. Modelado"
      ],
      "metadata": {
        "id": "4Tn-AMrQ4RVK"
      }
    },
    {
      "cell_type": "markdown",
      "source": [
        "Comenzaremos con la vectorización para la creación de la bolsa de palabras (bow)"
      ],
      "metadata": {
        "id": "q-W3pSJR3twn"
      }
    },
    {
      "cell_type": "code",
      "execution_count": null,
      "metadata": {
        "id": "KAE6VMfuexUl"
      },
      "outputs": [],
      "source": [
        "# Creacion de metodo para stemming\n",
        "from nltk.stem import PorterStemmer\n",
        "\n",
        "stemmer = PorterStemmer()\n",
        "analyzer = CountVectorizer().build_analyzer()\n",
        "\n",
        "def stemmed_words(doc):\n",
        "    return (stemmer.stem(w) for w in analyzer(doc))"
      ]
    },
    {
      "cell_type": "code",
      "execution_count": null,
      "metadata": {
        "id": "xZJtKEWIe11Y"
      },
      "outputs": [],
      "source": [
        "# Creacion de un objeto tipo CountVectorizer\n",
        "bow_counts = CountVectorizer(\n",
        "    tokenizer=word_tokenize,\n",
        "    stop_words=noise_words,\n",
        "    ngram_range=(1, 1)\n",
        ")"
      ]
    },
    {
      "cell_type": "markdown",
      "source": [
        "Ahora que generamos la bolsa de palabras podemos proceder a crear los dataset de entrenamiento y testeo"
      ],
      "metadata": {
        "id": "h4DOgH9i3-e_"
      }
    },
    {
      "cell_type": "code",
      "execution_count": null,
      "metadata": {
        "id": "Y21JnxR1e20r"
      },
      "outputs": [],
      "source": [
        "emotions_train, emotions_test = train_test_split(df, test_size=0.2, random_state=0)"
      ]
    },
    {
      "cell_type": "code",
      "execution_count": null,
      "metadata": {
        "colab": {
          "base_uri": "https://localhost:8080/"
        },
        "id": "izm4IwVNfFom",
        "outputId": "1bb22b02-058f-41f8-9f6f-fdb7d3d3160a"
      },
      "outputs": [
        {
          "output_type": "stream",
          "name": "stderr",
          "text": [
            "/usr/local/lib/python3.11/dist-packages/sklearn/feature_extraction/text.py:517: UserWarning: The parameter 'token_pattern' will not be used since 'tokenizer' is not None'\n",
            "  warnings.warn(\n",
            "/usr/local/lib/python3.11/dist-packages/sklearn/feature_extraction/text.py:402: UserWarning: Your stop_words may be inconsistent with your preprocessing. Tokenizing the stop words generated tokens [\"'d\", \"'ll\", \"'re\", \"'s\", \"'ve\", \"n't\", 'sha', 'wo'] not in stop_words.\n",
            "  warnings.warn(\n"
          ]
        }
      ],
      "source": [
        "X_train_bow = bow_counts.fit_transform(emotions_train.text_new)\n",
        "X_test_bow = bow_counts.transform(emotions_test.text_new)"
      ]
    },
    {
      "cell_type": "markdown",
      "source": [
        "Crearemos los dataset de salida asociados a las variables de sentiment_rating que es la que nos interesa predecir."
      ],
      "metadata": {
        "id": "6zZkPbYQ41pM"
      }
    },
    {
      "cell_type": "code",
      "execution_count": null,
      "metadata": {
        "id": "VCqyUpnbglkM"
      },
      "outputs": [],
      "source": [
        "y_train_bow = emotions_train['Sentiment_rating']\n",
        "y_test_bow = emotions_test['Sentiment_rating']"
      ]
    },
    {
      "cell_type": "markdown",
      "source": [],
      "metadata": {
        "id": "8SNGXioZ5Cc4"
      }
    },
    {
      "cell_type": "code",
      "execution_count": null,
      "metadata": {
        "colab": {
          "base_uri": "https://localhost:8080/",
          "height": 178
        },
        "id": "j8gqTdcQkPFd",
        "outputId": "1f0f0979-6937-46a4-bc06-3d2fba08cdd4"
      },
      "outputs": [
        {
          "output_type": "execute_result",
          "data": {
            "text/plain": [
              "Sentiment_rating\n",
              "1    0.668365\n",
              "0    0.331635\n",
              "Name: count, dtype: float64"
            ],
            "text/html": [
              "<div>\n",
              "<style scoped>\n",
              "    .dataframe tbody tr th:only-of-type {\n",
              "        vertical-align: middle;\n",
              "    }\n",
              "\n",
              "    .dataframe tbody tr th {\n",
              "        vertical-align: top;\n",
              "    }\n",
              "\n",
              "    .dataframe thead th {\n",
              "        text-align: right;\n",
              "    }\n",
              "</style>\n",
              "<table border=\"1\" class=\"dataframe\">\n",
              "  <thead>\n",
              "    <tr style=\"text-align: right;\">\n",
              "      <th></th>\n",
              "      <th>count</th>\n",
              "    </tr>\n",
              "    <tr>\n",
              "      <th>Sentiment_rating</th>\n",
              "      <th></th>\n",
              "    </tr>\n",
              "  </thead>\n",
              "  <tbody>\n",
              "    <tr>\n",
              "      <th>1</th>\n",
              "      <td>0.668365</td>\n",
              "    </tr>\n",
              "    <tr>\n",
              "      <th>0</th>\n",
              "      <td>0.331635</td>\n",
              "    </tr>\n",
              "  </tbody>\n",
              "</table>\n",
              "</div><br><label><b>dtype:</b> float64</label>"
            ]
          },
          "metadata": {},
          "execution_count": 24
        }
      ],
      "source": [
        "y_test_bow.value_counts() / y_test_bow.shape[0]"
      ]
    },
    {
      "cell_type": "markdown",
      "source": [
        "Analizamos que la distribución resulta ser bastante similar a cuando revisamos el shape del sentiment_rating."
      ],
      "metadata": {
        "id": "R5B2cs_N5YC8"
      }
    },
    {
      "cell_type": "markdown",
      "source": [
        "##3.1 Regresión logística"
      ],
      "metadata": {
        "id": "wMI6LipI5qWB"
      }
    },
    {
      "cell_type": "code",
      "execution_count": null,
      "metadata": {
        "colab": {
          "base_uri": "https://localhost:8080/"
        },
        "id": "yzWhYZALnBSy",
        "outputId": "e2951730-8368-4dc7-d531-175e55da8c7c"
      },
      "outputs": [
        {
          "output_type": "stream",
          "name": "stdout",
          "text": [
            "F1 score:  0.8367325446694983\n",
            "Accuracy:  76.30305191827584\n"
          ]
        }
      ],
      "source": [
        "# Entrenar el modelo\n",
        "lr_model_all = LogisticRegression(C=1, solver=\"liblinear\")\n",
        "lr_model_all.fit(X_train_bow, y_train_bow)\n",
        "\n",
        "# Predecir el output\n",
        "test_pred_lr_prob = lr_model_all.predict_proba(X_test_bow)\n",
        "test_pred_lr_all = lr_model_all.predict(X_test_bow)\n",
        "\n",
        "print(\"F1 score: \", f1_score(y_test_bow, test_pred_lr_all))\n",
        "print(\"Accuracy: \", accuracy_score(y_test_bow, test_pred_lr_all) * 100)"
      ]
    },
    {
      "cell_type": "markdown",
      "source": [
        "En el primer modelo de regresión logística obtenemos valores buenos para un modelo en general, pero no son los mejores, revisaremos si existen opciones para mejorar las métricas del modelo u otros modelos con mejor rendimiento."
      ],
      "metadata": {
        "id": "uzj34suQ5dNe"
      }
    },
    {
      "cell_type": "code",
      "execution_count": null,
      "metadata": {
        "colab": {
          "base_uri": "https://localhost:8080/"
        },
        "id": "htrczPqrnRJl",
        "outputId": "1ac90531-7ca0-4171-be12-bd99a5150885"
      },
      "outputs": [
        {
          "output_type": "execute_result",
          "data": {
            "text/plain": [
              "array([[0.20799095, 0.79200905],\n",
              "       [0.13655542, 0.86344458],\n",
              "       [0.35399146, 0.64600854],\n",
              "       ...,\n",
              "       [0.34813987, 0.65186013],\n",
              "       [0.97028311, 0.02971689],\n",
              "       [0.17725903, 0.82274097]])"
            ]
          },
          "metadata": {},
          "execution_count": 26
        }
      ],
      "source": [
        "test_pred_lr_prob"
      ]
    },
    {
      "cell_type": "code",
      "execution_count": null,
      "metadata": {
        "id": "b0m34c3JnT_o"
      },
      "outputs": [],
      "source": [
        "probabilities = [each[1] for each in test_pred_lr_prob]"
      ]
    },
    {
      "cell_type": "code",
      "execution_count": null,
      "metadata": {
        "id": "tu9BWm8qnVCD"
      },
      "outputs": [],
      "source": [
        "predictions = pd.DataFrame()\n",
        "predictions['text'] = emotions_test['text']\n",
        "predictions['Actual_Emotions'] = emotions_test['Emotion']\n",
        "predictions['Sentiment_rating'] = emotions_test['Sentiment_rating']\n",
        "predictions['Predicted_sentiment'] = test_pred_lr_all\n",
        "predictions['Predicted_probability'] = probabilities"
      ]
    },
    {
      "cell_type": "code",
      "execution_count": null,
      "metadata": {
        "colab": {
          "base_uri": "https://localhost:8080/",
          "height": 206
        },
        "id": "X2sb64Qrn7Y7",
        "outputId": "d8b2312b-e4a5-4f7c-a6d7-73be787576db"
      },
      "outputs": [
        {
          "output_type": "execute_result",
          "data": {
            "text/plain": [
              "                                                     text Actual_Emotions  \\\n",
              "192014  i certainly don t feel joyful the way all thos...             fun   \n",
              "290085  i feel elegant when i do and its so comfortabl...          relief   \n",
              "196095  i really hope i find something i love that mak...            love   \n",
              "100935  i have stewed and thought about the sad emptin...         sadness   \n",
              "320823  i decided to join this forum because i am a lo...            love   \n",
              "\n",
              "        Sentiment_rating  Predicted_sentiment  Predicted_probability  \n",
              "192014                 1                    1               0.792009  \n",
              "290085                 1                    1               0.863445  \n",
              "196095                 1                    1               0.646009  \n",
              "100935                 0                    1               0.643453  \n",
              "320823                 1                    1               0.996418  "
            ],
            "text/html": [
              "\n",
              "  <div id=\"df-289fb75a-e1bf-41fa-8b5f-27da3efc2069\" class=\"colab-df-container\">\n",
              "    <div>\n",
              "<style scoped>\n",
              "    .dataframe tbody tr th:only-of-type {\n",
              "        vertical-align: middle;\n",
              "    }\n",
              "\n",
              "    .dataframe tbody tr th {\n",
              "        vertical-align: top;\n",
              "    }\n",
              "\n",
              "    .dataframe thead th {\n",
              "        text-align: right;\n",
              "    }\n",
              "</style>\n",
              "<table border=\"1\" class=\"dataframe\">\n",
              "  <thead>\n",
              "    <tr style=\"text-align: right;\">\n",
              "      <th></th>\n",
              "      <th>text</th>\n",
              "      <th>Actual_Emotions</th>\n",
              "      <th>Sentiment_rating</th>\n",
              "      <th>Predicted_sentiment</th>\n",
              "      <th>Predicted_probability</th>\n",
              "    </tr>\n",
              "  </thead>\n",
              "  <tbody>\n",
              "    <tr>\n",
              "      <th>192014</th>\n",
              "      <td>i certainly don t feel joyful the way all thos...</td>\n",
              "      <td>fun</td>\n",
              "      <td>1</td>\n",
              "      <td>1</td>\n",
              "      <td>0.792009</td>\n",
              "    </tr>\n",
              "    <tr>\n",
              "      <th>290085</th>\n",
              "      <td>i feel elegant when i do and its so comfortabl...</td>\n",
              "      <td>relief</td>\n",
              "      <td>1</td>\n",
              "      <td>1</td>\n",
              "      <td>0.863445</td>\n",
              "    </tr>\n",
              "    <tr>\n",
              "      <th>196095</th>\n",
              "      <td>i really hope i find something i love that mak...</td>\n",
              "      <td>love</td>\n",
              "      <td>1</td>\n",
              "      <td>1</td>\n",
              "      <td>0.646009</td>\n",
              "    </tr>\n",
              "    <tr>\n",
              "      <th>100935</th>\n",
              "      <td>i have stewed and thought about the sad emptin...</td>\n",
              "      <td>sadness</td>\n",
              "      <td>0</td>\n",
              "      <td>1</td>\n",
              "      <td>0.643453</td>\n",
              "    </tr>\n",
              "    <tr>\n",
              "      <th>320823</th>\n",
              "      <td>i decided to join this forum because i am a lo...</td>\n",
              "      <td>love</td>\n",
              "      <td>1</td>\n",
              "      <td>1</td>\n",
              "      <td>0.996418</td>\n",
              "    </tr>\n",
              "  </tbody>\n",
              "</table>\n",
              "</div>\n",
              "    <div class=\"colab-df-buttons\">\n",
              "\n",
              "  <div class=\"colab-df-container\">\n",
              "    <button class=\"colab-df-convert\" onclick=\"convertToInteractive('df-289fb75a-e1bf-41fa-8b5f-27da3efc2069')\"\n",
              "            title=\"Convert this dataframe to an interactive table.\"\n",
              "            style=\"display:none;\">\n",
              "\n",
              "  <svg xmlns=\"http://www.w3.org/2000/svg\" height=\"24px\" viewBox=\"0 -960 960 960\">\n",
              "    <path d=\"M120-120v-720h720v720H120Zm60-500h600v-160H180v160Zm220 220h160v-160H400v160Zm0 220h160v-160H400v160ZM180-400h160v-160H180v160Zm440 0h160v-160H620v160ZM180-180h160v-160H180v160Zm440 0h160v-160H620v160Z\"/>\n",
              "  </svg>\n",
              "    </button>\n",
              "\n",
              "  <style>\n",
              "    .colab-df-container {\n",
              "      display:flex;\n",
              "      gap: 12px;\n",
              "    }\n",
              "\n",
              "    .colab-df-convert {\n",
              "      background-color: #E8F0FE;\n",
              "      border: none;\n",
              "      border-radius: 50%;\n",
              "      cursor: pointer;\n",
              "      display: none;\n",
              "      fill: #1967D2;\n",
              "      height: 32px;\n",
              "      padding: 0 0 0 0;\n",
              "      width: 32px;\n",
              "    }\n",
              "\n",
              "    .colab-df-convert:hover {\n",
              "      background-color: #E2EBFA;\n",
              "      box-shadow: 0px 1px 2px rgba(60, 64, 67, 0.3), 0px 1px 3px 1px rgba(60, 64, 67, 0.15);\n",
              "      fill: #174EA6;\n",
              "    }\n",
              "\n",
              "    .colab-df-buttons div {\n",
              "      margin-bottom: 4px;\n",
              "    }\n",
              "\n",
              "    [theme=dark] .colab-df-convert {\n",
              "      background-color: #3B4455;\n",
              "      fill: #D2E3FC;\n",
              "    }\n",
              "\n",
              "    [theme=dark] .colab-df-convert:hover {\n",
              "      background-color: #434B5C;\n",
              "      box-shadow: 0px 1px 3px 1px rgba(0, 0, 0, 0.15);\n",
              "      filter: drop-shadow(0px 1px 2px rgba(0, 0, 0, 0.3));\n",
              "      fill: #FFFFFF;\n",
              "    }\n",
              "  </style>\n",
              "\n",
              "    <script>\n",
              "      const buttonEl =\n",
              "        document.querySelector('#df-289fb75a-e1bf-41fa-8b5f-27da3efc2069 button.colab-df-convert');\n",
              "      buttonEl.style.display =\n",
              "        google.colab.kernel.accessAllowed ? 'block' : 'none';\n",
              "\n",
              "      async function convertToInteractive(key) {\n",
              "        const element = document.querySelector('#df-289fb75a-e1bf-41fa-8b5f-27da3efc2069');\n",
              "        const dataTable =\n",
              "          await google.colab.kernel.invokeFunction('convertToInteractive',\n",
              "                                                    [key], {});\n",
              "        if (!dataTable) return;\n",
              "\n",
              "        const docLinkHtml = 'Like what you see? Visit the ' +\n",
              "          '<a target=\"_blank\" href=https://colab.research.google.com/notebooks/data_table.ipynb>data table notebook</a>'\n",
              "          + ' to learn more about interactive tables.';\n",
              "        element.innerHTML = '';\n",
              "        dataTable['output_type'] = 'display_data';\n",
              "        await google.colab.output.renderOutput(dataTable, element);\n",
              "        const docLink = document.createElement('div');\n",
              "        docLink.innerHTML = docLinkHtml;\n",
              "        element.appendChild(docLink);\n",
              "      }\n",
              "    </script>\n",
              "  </div>\n",
              "\n",
              "\n",
              "<div id=\"df-cb306157-655a-4176-bd66-608aafef5907\">\n",
              "  <button class=\"colab-df-quickchart\" onclick=\"quickchart('df-cb306157-655a-4176-bd66-608aafef5907')\"\n",
              "            title=\"Suggest charts\"\n",
              "            style=\"display:none;\">\n",
              "\n",
              "<svg xmlns=\"http://www.w3.org/2000/svg\" height=\"24px\"viewBox=\"0 0 24 24\"\n",
              "     width=\"24px\">\n",
              "    <g>\n",
              "        <path d=\"M19 3H5c-1.1 0-2 .9-2 2v14c0 1.1.9 2 2 2h14c1.1 0 2-.9 2-2V5c0-1.1-.9-2-2-2zM9 17H7v-7h2v7zm4 0h-2V7h2v10zm4 0h-2v-4h2v4z\"/>\n",
              "    </g>\n",
              "</svg>\n",
              "  </button>\n",
              "\n",
              "<style>\n",
              "  .colab-df-quickchart {\n",
              "      --bg-color: #E8F0FE;\n",
              "      --fill-color: #1967D2;\n",
              "      --hover-bg-color: #E2EBFA;\n",
              "      --hover-fill-color: #174EA6;\n",
              "      --disabled-fill-color: #AAA;\n",
              "      --disabled-bg-color: #DDD;\n",
              "  }\n",
              "\n",
              "  [theme=dark] .colab-df-quickchart {\n",
              "      --bg-color: #3B4455;\n",
              "      --fill-color: #D2E3FC;\n",
              "      --hover-bg-color: #434B5C;\n",
              "      --hover-fill-color: #FFFFFF;\n",
              "      --disabled-bg-color: #3B4455;\n",
              "      --disabled-fill-color: #666;\n",
              "  }\n",
              "\n",
              "  .colab-df-quickchart {\n",
              "    background-color: var(--bg-color);\n",
              "    border: none;\n",
              "    border-radius: 50%;\n",
              "    cursor: pointer;\n",
              "    display: none;\n",
              "    fill: var(--fill-color);\n",
              "    height: 32px;\n",
              "    padding: 0;\n",
              "    width: 32px;\n",
              "  }\n",
              "\n",
              "  .colab-df-quickchart:hover {\n",
              "    background-color: var(--hover-bg-color);\n",
              "    box-shadow: 0 1px 2px rgba(60, 64, 67, 0.3), 0 1px 3px 1px rgba(60, 64, 67, 0.15);\n",
              "    fill: var(--button-hover-fill-color);\n",
              "  }\n",
              "\n",
              "  .colab-df-quickchart-complete:disabled,\n",
              "  .colab-df-quickchart-complete:disabled:hover {\n",
              "    background-color: var(--disabled-bg-color);\n",
              "    fill: var(--disabled-fill-color);\n",
              "    box-shadow: none;\n",
              "  }\n",
              "\n",
              "  .colab-df-spinner {\n",
              "    border: 2px solid var(--fill-color);\n",
              "    border-color: transparent;\n",
              "    border-bottom-color: var(--fill-color);\n",
              "    animation:\n",
              "      spin 1s steps(1) infinite;\n",
              "  }\n",
              "\n",
              "  @keyframes spin {\n",
              "    0% {\n",
              "      border-color: transparent;\n",
              "      border-bottom-color: var(--fill-color);\n",
              "      border-left-color: var(--fill-color);\n",
              "    }\n",
              "    20% {\n",
              "      border-color: transparent;\n",
              "      border-left-color: var(--fill-color);\n",
              "      border-top-color: var(--fill-color);\n",
              "    }\n",
              "    30% {\n",
              "      border-color: transparent;\n",
              "      border-left-color: var(--fill-color);\n",
              "      border-top-color: var(--fill-color);\n",
              "      border-right-color: var(--fill-color);\n",
              "    }\n",
              "    40% {\n",
              "      border-color: transparent;\n",
              "      border-right-color: var(--fill-color);\n",
              "      border-top-color: var(--fill-color);\n",
              "    }\n",
              "    60% {\n",
              "      border-color: transparent;\n",
              "      border-right-color: var(--fill-color);\n",
              "    }\n",
              "    80% {\n",
              "      border-color: transparent;\n",
              "      border-right-color: var(--fill-color);\n",
              "      border-bottom-color: var(--fill-color);\n",
              "    }\n",
              "    90% {\n",
              "      border-color: transparent;\n",
              "      border-bottom-color: var(--fill-color);\n",
              "    }\n",
              "  }\n",
              "</style>\n",
              "\n",
              "  <script>\n",
              "    async function quickchart(key) {\n",
              "      const quickchartButtonEl =\n",
              "        document.querySelector('#' + key + ' button');\n",
              "      quickchartButtonEl.disabled = true;  // To prevent multiple clicks.\n",
              "      quickchartButtonEl.classList.add('colab-df-spinner');\n",
              "      try {\n",
              "        const charts = await google.colab.kernel.invokeFunction(\n",
              "            'suggestCharts', [key], {});\n",
              "      } catch (error) {\n",
              "        console.error('Error during call to suggestCharts:', error);\n",
              "      }\n",
              "      quickchartButtonEl.classList.remove('colab-df-spinner');\n",
              "      quickchartButtonEl.classList.add('colab-df-quickchart-complete');\n",
              "    }\n",
              "    (() => {\n",
              "      let quickchartButtonEl =\n",
              "        document.querySelector('#df-cb306157-655a-4176-bd66-608aafef5907 button');\n",
              "      quickchartButtonEl.style.display =\n",
              "        google.colab.kernel.accessAllowed ? 'block' : 'none';\n",
              "    })();\n",
              "  </script>\n",
              "</div>\n",
              "\n",
              "    </div>\n",
              "  </div>\n"
            ],
            "application/vnd.google.colaboratory.intrinsic+json": {
              "type": "dataframe",
              "variable_name": "predictions",
              "summary": "{\n  \"name\": \"predictions\",\n  \"rows\": 19627,\n  \"fields\": [\n    {\n      \"column\": \"text\",\n      \"properties\": {\n        \"dtype\": \"string\",\n        \"num_unique_values\": 18704,\n        \"samples\": [\n          \"i have been feeling so melancholy and alone\",\n          \"i am feeling very energetic and so excited that i am loosing weight\",\n          \"i cant help but feel envious of all the happiness smiling hugging kissing laughing and love\"\n        ],\n        \"semantic_type\": \"\",\n        \"description\": \"\"\n      }\n    },\n    {\n      \"column\": \"Actual_Emotions\",\n      \"properties\": {\n        \"dtype\": \"category\",\n        \"num_unique_values\": 12,\n        \"samples\": [\n          \"surprise\",\n          \"worry\",\n          \"fun\"\n        ],\n        \"semantic_type\": \"\",\n        \"description\": \"\"\n      }\n    },\n    {\n      \"column\": \"Sentiment_rating\",\n      \"properties\": {\n        \"dtype\": \"number\",\n        \"std\": 0,\n        \"min\": 0,\n        \"max\": 1,\n        \"num_unique_values\": 2,\n        \"samples\": [\n          0,\n          1\n        ],\n        \"semantic_type\": \"\",\n        \"description\": \"\"\n      }\n    },\n    {\n      \"column\": \"Predicted_sentiment\",\n      \"properties\": {\n        \"dtype\": \"number\",\n        \"std\": 0,\n        \"min\": 0,\n        \"max\": 1,\n        \"num_unique_values\": 2,\n        \"samples\": [\n          0,\n          1\n        ],\n        \"semantic_type\": \"\",\n        \"description\": \"\"\n      }\n    },\n    {\n      \"column\": \"Predicted_probability\",\n      \"properties\": {\n        \"dtype\": \"number\",\n        \"std\": 0.25009295932630576,\n        \"min\": 1.3575502440088566e-05,\n        \"max\": 0.9999904388188705,\n        \"num_unique_values\": 16761,\n        \"samples\": [\n          0.6610138883629438,\n          0.8542828311003808\n        ],\n        \"semantic_type\": \"\",\n        \"description\": \"\"\n      }\n    }\n  ]\n}"
            }
          },
          "metadata": {},
          "execution_count": 29
        }
      ],
      "source": [
        "predictions.head(5)"
      ]
    },
    {
      "cell_type": "markdown",
      "source": [
        "Vemos que la probabilidad de predicción es bastante irregular entre los disintos valore,s teniendo extremos como 0.9964 como otros valores tipo 0.6434 de todas maneras son buenos valores para un modelo real."
      ],
      "metadata": {
        "id": "A6sFgKJK5xnv"
      }
    },
    {
      "cell_type": "code",
      "execution_count": null,
      "metadata": {
        "colab": {
          "base_uri": "https://localhost:8080/"
        },
        "id": "OhbgRkfXoBYA",
        "outputId": "dd5fcad8-f6c4-4069-ca73-bd3ae8b0d94b"
      },
      "outputs": [
        {
          "output_type": "execute_result",
          "data": {
            "text/plain": [
              "0.7630305191827584"
            ]
          },
          "metadata": {},
          "execution_count": 30
        }
      ],
      "source": [
        "accuracy_score(predictions['Sentiment_rating'], predictions['Predicted_sentiment'])"
      ]
    },
    {
      "cell_type": "markdown",
      "source": [
        "El accuracy como vimos anteriormente no es el mejor y creo que se podría mejorar."
      ],
      "metadata": {
        "id": "nWg72PkT59EQ"
      }
    },
    {
      "cell_type": "code",
      "execution_count": null,
      "metadata": {
        "colab": {
          "base_uri": "https://localhost:8080/",
          "height": 143
        },
        "id": "wBGeZUKcoEah",
        "outputId": "49c45dda-c123-448b-a423-56e6a1eeb609"
      },
      "outputs": [
        {
          "output_type": "execute_result",
          "data": {
            "text/plain": [
              "                                                     text Actual_Emotions  \\\n",
              "233792  i was feeling unhappy i felt dispirited lethar...       happiness   \n",
              "158377  i was swtiching through all of the news channe...        surprise   \n",
              "411074  i have spent the last month or so slowly withd...       happiness   \n",
              "\n",
              "        Sentiment_rating  Predicted_sentiment  Predicted_probability  \n",
              "233792                 1                    0               0.010070  \n",
              "158377                 1                    0               0.016948  \n",
              "411074                 1                    0               0.025238  "
            ],
            "text/html": [
              "\n",
              "  <div id=\"df-2bec9e5d-d8b6-4ae6-ab08-6cdb935bbcd4\" class=\"colab-df-container\">\n",
              "    <div>\n",
              "<style scoped>\n",
              "    .dataframe tbody tr th:only-of-type {\n",
              "        vertical-align: middle;\n",
              "    }\n",
              "\n",
              "    .dataframe tbody tr th {\n",
              "        vertical-align: top;\n",
              "    }\n",
              "\n",
              "    .dataframe thead th {\n",
              "        text-align: right;\n",
              "    }\n",
              "</style>\n",
              "<table border=\"1\" class=\"dataframe\">\n",
              "  <thead>\n",
              "    <tr style=\"text-align: right;\">\n",
              "      <th></th>\n",
              "      <th>text</th>\n",
              "      <th>Actual_Emotions</th>\n",
              "      <th>Sentiment_rating</th>\n",
              "      <th>Predicted_sentiment</th>\n",
              "      <th>Predicted_probability</th>\n",
              "    </tr>\n",
              "  </thead>\n",
              "  <tbody>\n",
              "    <tr>\n",
              "      <th>233792</th>\n",
              "      <td>i was feeling unhappy i felt dispirited lethar...</td>\n",
              "      <td>happiness</td>\n",
              "      <td>1</td>\n",
              "      <td>0</td>\n",
              "      <td>0.010070</td>\n",
              "    </tr>\n",
              "    <tr>\n",
              "      <th>158377</th>\n",
              "      <td>i was swtiching through all of the news channe...</td>\n",
              "      <td>surprise</td>\n",
              "      <td>1</td>\n",
              "      <td>0</td>\n",
              "      <td>0.016948</td>\n",
              "    </tr>\n",
              "    <tr>\n",
              "      <th>411074</th>\n",
              "      <td>i have spent the last month or so slowly withd...</td>\n",
              "      <td>happiness</td>\n",
              "      <td>1</td>\n",
              "      <td>0</td>\n",
              "      <td>0.025238</td>\n",
              "    </tr>\n",
              "  </tbody>\n",
              "</table>\n",
              "</div>\n",
              "    <div class=\"colab-df-buttons\">\n",
              "\n",
              "  <div class=\"colab-df-container\">\n",
              "    <button class=\"colab-df-convert\" onclick=\"convertToInteractive('df-2bec9e5d-d8b6-4ae6-ab08-6cdb935bbcd4')\"\n",
              "            title=\"Convert this dataframe to an interactive table.\"\n",
              "            style=\"display:none;\">\n",
              "\n",
              "  <svg xmlns=\"http://www.w3.org/2000/svg\" height=\"24px\" viewBox=\"0 -960 960 960\">\n",
              "    <path d=\"M120-120v-720h720v720H120Zm60-500h600v-160H180v160Zm220 220h160v-160H400v160Zm0 220h160v-160H400v160ZM180-400h160v-160H180v160Zm440 0h160v-160H620v160ZM180-180h160v-160H180v160Zm440 0h160v-160H620v160Z\"/>\n",
              "  </svg>\n",
              "    </button>\n",
              "\n",
              "  <style>\n",
              "    .colab-df-container {\n",
              "      display:flex;\n",
              "      gap: 12px;\n",
              "    }\n",
              "\n",
              "    .colab-df-convert {\n",
              "      background-color: #E8F0FE;\n",
              "      border: none;\n",
              "      border-radius: 50%;\n",
              "      cursor: pointer;\n",
              "      display: none;\n",
              "      fill: #1967D2;\n",
              "      height: 32px;\n",
              "      padding: 0 0 0 0;\n",
              "      width: 32px;\n",
              "    }\n",
              "\n",
              "    .colab-df-convert:hover {\n",
              "      background-color: #E2EBFA;\n",
              "      box-shadow: 0px 1px 2px rgba(60, 64, 67, 0.3), 0px 1px 3px 1px rgba(60, 64, 67, 0.15);\n",
              "      fill: #174EA6;\n",
              "    }\n",
              "\n",
              "    .colab-df-buttons div {\n",
              "      margin-bottom: 4px;\n",
              "    }\n",
              "\n",
              "    [theme=dark] .colab-df-convert {\n",
              "      background-color: #3B4455;\n",
              "      fill: #D2E3FC;\n",
              "    }\n",
              "\n",
              "    [theme=dark] .colab-df-convert:hover {\n",
              "      background-color: #434B5C;\n",
              "      box-shadow: 0px 1px 3px 1px rgba(0, 0, 0, 0.15);\n",
              "      filter: drop-shadow(0px 1px 2px rgba(0, 0, 0, 0.3));\n",
              "      fill: #FFFFFF;\n",
              "    }\n",
              "  </style>\n",
              "\n",
              "    <script>\n",
              "      const buttonEl =\n",
              "        document.querySelector('#df-2bec9e5d-d8b6-4ae6-ab08-6cdb935bbcd4 button.colab-df-convert');\n",
              "      buttonEl.style.display =\n",
              "        google.colab.kernel.accessAllowed ? 'block' : 'none';\n",
              "\n",
              "      async function convertToInteractive(key) {\n",
              "        const element = document.querySelector('#df-2bec9e5d-d8b6-4ae6-ab08-6cdb935bbcd4');\n",
              "        const dataTable =\n",
              "          await google.colab.kernel.invokeFunction('convertToInteractive',\n",
              "                                                    [key], {});\n",
              "        if (!dataTable) return;\n",
              "\n",
              "        const docLinkHtml = 'Like what you see? Visit the ' +\n",
              "          '<a target=\"_blank\" href=https://colab.research.google.com/notebooks/data_table.ipynb>data table notebook</a>'\n",
              "          + ' to learn more about interactive tables.';\n",
              "        element.innerHTML = '';\n",
              "        dataTable['output_type'] = 'display_data';\n",
              "        await google.colab.output.renderOutput(dataTable, element);\n",
              "        const docLink = document.createElement('div');\n",
              "        docLink.innerHTML = docLinkHtml;\n",
              "        element.appendChild(docLink);\n",
              "      }\n",
              "    </script>\n",
              "  </div>\n",
              "\n",
              "\n",
              "<div id=\"df-538de613-0542-4963-af69-3f5e44416ba2\">\n",
              "  <button class=\"colab-df-quickchart\" onclick=\"quickchart('df-538de613-0542-4963-af69-3f5e44416ba2')\"\n",
              "            title=\"Suggest charts\"\n",
              "            style=\"display:none;\">\n",
              "\n",
              "<svg xmlns=\"http://www.w3.org/2000/svg\" height=\"24px\"viewBox=\"0 0 24 24\"\n",
              "     width=\"24px\">\n",
              "    <g>\n",
              "        <path d=\"M19 3H5c-1.1 0-2 .9-2 2v14c0 1.1.9 2 2 2h14c1.1 0 2-.9 2-2V5c0-1.1-.9-2-2-2zM9 17H7v-7h2v7zm4 0h-2V7h2v10zm4 0h-2v-4h2v4z\"/>\n",
              "    </g>\n",
              "</svg>\n",
              "  </button>\n",
              "\n",
              "<style>\n",
              "  .colab-df-quickchart {\n",
              "      --bg-color: #E8F0FE;\n",
              "      --fill-color: #1967D2;\n",
              "      --hover-bg-color: #E2EBFA;\n",
              "      --hover-fill-color: #174EA6;\n",
              "      --disabled-fill-color: #AAA;\n",
              "      --disabled-bg-color: #DDD;\n",
              "  }\n",
              "\n",
              "  [theme=dark] .colab-df-quickchart {\n",
              "      --bg-color: #3B4455;\n",
              "      --fill-color: #D2E3FC;\n",
              "      --hover-bg-color: #434B5C;\n",
              "      --hover-fill-color: #FFFFFF;\n",
              "      --disabled-bg-color: #3B4455;\n",
              "      --disabled-fill-color: #666;\n",
              "  }\n",
              "\n",
              "  .colab-df-quickchart {\n",
              "    background-color: var(--bg-color);\n",
              "    border: none;\n",
              "    border-radius: 50%;\n",
              "    cursor: pointer;\n",
              "    display: none;\n",
              "    fill: var(--fill-color);\n",
              "    height: 32px;\n",
              "    padding: 0;\n",
              "    width: 32px;\n",
              "  }\n",
              "\n",
              "  .colab-df-quickchart:hover {\n",
              "    background-color: var(--hover-bg-color);\n",
              "    box-shadow: 0 1px 2px rgba(60, 64, 67, 0.3), 0 1px 3px 1px rgba(60, 64, 67, 0.15);\n",
              "    fill: var(--button-hover-fill-color);\n",
              "  }\n",
              "\n",
              "  .colab-df-quickchart-complete:disabled,\n",
              "  .colab-df-quickchart-complete:disabled:hover {\n",
              "    background-color: var(--disabled-bg-color);\n",
              "    fill: var(--disabled-fill-color);\n",
              "    box-shadow: none;\n",
              "  }\n",
              "\n",
              "  .colab-df-spinner {\n",
              "    border: 2px solid var(--fill-color);\n",
              "    border-color: transparent;\n",
              "    border-bottom-color: var(--fill-color);\n",
              "    animation:\n",
              "      spin 1s steps(1) infinite;\n",
              "  }\n",
              "\n",
              "  @keyframes spin {\n",
              "    0% {\n",
              "      border-color: transparent;\n",
              "      border-bottom-color: var(--fill-color);\n",
              "      border-left-color: var(--fill-color);\n",
              "    }\n",
              "    20% {\n",
              "      border-color: transparent;\n",
              "      border-left-color: var(--fill-color);\n",
              "      border-top-color: var(--fill-color);\n",
              "    }\n",
              "    30% {\n",
              "      border-color: transparent;\n",
              "      border-left-color: var(--fill-color);\n",
              "      border-top-color: var(--fill-color);\n",
              "      border-right-color: var(--fill-color);\n",
              "    }\n",
              "    40% {\n",
              "      border-color: transparent;\n",
              "      border-right-color: var(--fill-color);\n",
              "      border-top-color: var(--fill-color);\n",
              "    }\n",
              "    60% {\n",
              "      border-color: transparent;\n",
              "      border-right-color: var(--fill-color);\n",
              "    }\n",
              "    80% {\n",
              "      border-color: transparent;\n",
              "      border-right-color: var(--fill-color);\n",
              "      border-bottom-color: var(--fill-color);\n",
              "    }\n",
              "    90% {\n",
              "      border-color: transparent;\n",
              "      border-bottom-color: var(--fill-color);\n",
              "    }\n",
              "  }\n",
              "</style>\n",
              "\n",
              "  <script>\n",
              "    async function quickchart(key) {\n",
              "      const quickchartButtonEl =\n",
              "        document.querySelector('#' + key + ' button');\n",
              "      quickchartButtonEl.disabled = true;  // To prevent multiple clicks.\n",
              "      quickchartButtonEl.classList.add('colab-df-spinner');\n",
              "      try {\n",
              "        const charts = await google.colab.kernel.invokeFunction(\n",
              "            'suggestCharts', [key], {});\n",
              "      } catch (error) {\n",
              "        console.error('Error during call to suggestCharts:', error);\n",
              "      }\n",
              "      quickchartButtonEl.classList.remove('colab-df-spinner');\n",
              "      quickchartButtonEl.classList.add('colab-df-quickchart-complete');\n",
              "    }\n",
              "    (() => {\n",
              "      let quickchartButtonEl =\n",
              "        document.querySelector('#df-538de613-0542-4963-af69-3f5e44416ba2 button');\n",
              "      quickchartButtonEl.style.display =\n",
              "        google.colab.kernel.accessAllowed ? 'block' : 'none';\n",
              "    })();\n",
              "  </script>\n",
              "</div>\n",
              "\n",
              "    </div>\n",
              "  </div>\n"
            ],
            "application/vnd.google.colaboratory.intrinsic+json": {
              "type": "dataframe",
              "summary": "{\n  \"name\": \"]\",\n  \"rows\": 3,\n  \"fields\": [\n    {\n      \"column\": \"text\",\n      \"properties\": {\n        \"dtype\": \"string\",\n        \"num_unique_values\": 3,\n        \"samples\": [\n          \"i was feeling unhappy i felt dispirited lethargic defensive and uninterested in other people even worse when i felt angry or resentful i searched for excuses to feel even more angry and resentful\",\n          \"i was swtiching through all of the news channels to get a feel for the coverage after the speeches and was shocked by the nonsense i heard there\",\n          \"i have spent the last month or so slowly withdrawing not sleeping feeling irritable and frustrated and generally un the fuck happy\"\n        ],\n        \"semantic_type\": \"\",\n        \"description\": \"\"\n      }\n    },\n    {\n      \"column\": \"Actual_Emotions\",\n      \"properties\": {\n        \"dtype\": \"string\",\n        \"num_unique_values\": 2,\n        \"samples\": [\n          \"surprise\",\n          \"happiness\"\n        ],\n        \"semantic_type\": \"\",\n        \"description\": \"\"\n      }\n    },\n    {\n      \"column\": \"Sentiment_rating\",\n      \"properties\": {\n        \"dtype\": \"number\",\n        \"std\": 0,\n        \"min\": 1,\n        \"max\": 1,\n        \"num_unique_values\": 1,\n        \"samples\": [\n          1\n        ],\n        \"semantic_type\": \"\",\n        \"description\": \"\"\n      }\n    },\n    {\n      \"column\": \"Predicted_sentiment\",\n      \"properties\": {\n        \"dtype\": \"number\",\n        \"std\": 0,\n        \"min\": 0,\n        \"max\": 0,\n        \"num_unique_values\": 1,\n        \"samples\": [\n          0\n        ],\n        \"semantic_type\": \"\",\n        \"description\": \"\"\n      }\n    },\n    {\n      \"column\": \"Predicted_probability\",\n      \"properties\": {\n        \"dtype\": \"number\",\n        \"std\": 0.007595283609432117,\n        \"min\": 0.010069652082573448,\n        \"max\": 0.025238346731511305,\n        \"num_unique_values\": 3,\n        \"samples\": [\n          0.010069652082573448\n        ],\n        \"semantic_type\": \"\",\n        \"description\": \"\"\n      }\n    }\n  ]\n}"
            }
          },
          "metadata": {},
          "execution_count": 31
        }
      ],
      "source": [
        "predictions[\n",
        "    predictions['Predicted_sentiment'] != predictions['Sentiment_rating']\n",
        "].sort_values(by=[\"Predicted_probability\"]).head(3)"
      ]
    },
    {
      "cell_type": "markdown",
      "source": [
        "Ahora bien si aplicamos esto sobre casos en que la predicción del sentiment es <> del valor real, vemos que da probabilidades de predicción bastante bajas, en torno al 1-2%. Probaremos cambiando el ngram_range para ajustar y mejorar el modelo."
      ],
      "metadata": {
        "id": "rOZk_0HY6FeN"
      }
    },
    {
      "cell_type": "markdown",
      "source": [
        "## 3.2 Regresión ajustada"
      ],
      "metadata": {
        "id": "hO8cxwxQ7J5C"
      }
    },
    {
      "cell_type": "code",
      "execution_count": null,
      "metadata": {
        "colab": {
          "base_uri": "https://localhost:8080/"
        },
        "id": "8O_sxTPkoNvI",
        "outputId": "32986fbd-2256-42f0-cad7-261cd3b18bba"
      },
      "outputs": [
        {
          "output_type": "stream",
          "name": "stderr",
          "text": [
            "/usr/local/lib/python3.11/dist-packages/sklearn/feature_extraction/text.py:517: UserWarning: The parameter 'token_pattern' will not be used since 'tokenizer' is not None'\n",
            "  warnings.warn(\n"
          ]
        }
      ],
      "source": [
        "bow_counts = CountVectorizer(\n",
        "    tokenizer=word_tokenize,\n",
        "    ngram_range=(1,4)\n",
        ")\n",
        "\n",
        "X_train_bow = bow_counts.fit_transform(emotions_train.text_new)\n",
        "X_test_bow = bow_counts.transform(emotions_test.text_new)"
      ]
    },
    {
      "cell_type": "code",
      "execution_count": null,
      "metadata": {
        "colab": {
          "base_uri": "https://localhost:8080/"
        },
        "id": "Ir3HqO52wsi_",
        "outputId": "e8ec715e-3148-4a19-be6f-7728614bb224"
      },
      "outputs": [
        {
          "output_type": "execute_result",
          "data": {
            "text/plain": [
              "<78507x2206942 sparse matrix of type '<class 'numpy.int64'>'\n",
              "\twith 6310712 stored elements in Compressed Sparse Row format>"
            ]
          },
          "metadata": {},
          "execution_count": 33
        }
      ],
      "source": [
        "X_train_bow"
      ]
    },
    {
      "cell_type": "code",
      "execution_count": null,
      "metadata": {
        "id": "nHJ2E0eswtnr"
      },
      "outputs": [],
      "source": [
        "lr_model_all_new = LogisticRegression(C=0.9, solver=\"liblinear\")"
      ]
    },
    {
      "cell_type": "code",
      "execution_count": null,
      "metadata": {
        "colab": {
          "base_uri": "https://localhost:8080/"
        },
        "id": "8Rvz9K0Dwwo5",
        "outputId": "66b161f4-ab4b-4785-c5b9-a437da09abce"
      },
      "outputs": [
        {
          "output_type": "stream",
          "name": "stdout",
          "text": [
            "F1 score:  0.9914555880454183\n",
            "Accuracy:  98.85362001324705\n"
          ]
        }
      ],
      "source": [
        "# Entrenar el modelo\n",
        "lr_model_all_new.fit(X_train_bow, y_train_bow)\n",
        "\n",
        "# Predecir resultados\n",
        "test_pred_lr_prob = lr_model_all_new.predict_proba(X_test_bow)\n",
        "test_pred_lr_all = lr_model_all_new.predict(X_test_bow)\n",
        "\n",
        "print(\"F1 score: \", f1_score(y_test_bow, test_pred_lr_all))\n",
        "print(\"Accuracy: \", accuracy_score(y_test_bow, test_pred_lr_all) * 100)"
      ]
    },
    {
      "cell_type": "markdown",
      "source": [
        "Ahora vemos que el mismo modelo es altamente predictivo y es posible que incluso esté sobreajustado al tener un nivel de F-1 Score esto da para considerar un modelo overfit."
      ],
      "metadata": {
        "id": "O82A04gw6hW5"
      }
    },
    {
      "cell_type": "code",
      "execution_count": null,
      "metadata": {
        "colab": {
          "base_uri": "https://localhost:8080/",
          "height": 519
        },
        "id": "l09vLnDXw6tj",
        "outputId": "fe966f3a-bfa2-48eb-cec0-7b25744f3da3"
      },
      "outputs": [
        {
          "output_type": "execute_result",
          "data": {
            "text/plain": [
              "                 words   weights\n",
              "1164367           love  5.000830\n",
              "1176968          loved  4.391223\n",
              "1737160      surprised  3.974819\n",
              "717632           funny  3.958401\n",
              "556520         excited  3.943133\n",
              "778219           happy  3.867230\n",
              "293285         beloved  3.857413\n",
              "1180242         lovely  3.797080\n",
              "714380             fun  3.757562\n",
              "1631476        shocked  3.724444\n",
              "2019989        unloved  3.717126\n",
              "411907         content  3.601164\n",
              "2010646  uncomfortable  3.555619\n",
              "395314     comfortable  3.473955\n",
              "1072258         joyful  3.455979"
            ],
            "text/html": [
              "\n",
              "  <div id=\"df-5a1e9774-2b67-4ea5-aa4b-40d78ff67c4c\" class=\"colab-df-container\">\n",
              "    <div>\n",
              "<style scoped>\n",
              "    .dataframe tbody tr th:only-of-type {\n",
              "        vertical-align: middle;\n",
              "    }\n",
              "\n",
              "    .dataframe tbody tr th {\n",
              "        vertical-align: top;\n",
              "    }\n",
              "\n",
              "    .dataframe thead th {\n",
              "        text-align: right;\n",
              "    }\n",
              "</style>\n",
              "<table border=\"1\" class=\"dataframe\">\n",
              "  <thead>\n",
              "    <tr style=\"text-align: right;\">\n",
              "      <th></th>\n",
              "      <th>words</th>\n",
              "      <th>weights</th>\n",
              "    </tr>\n",
              "  </thead>\n",
              "  <tbody>\n",
              "    <tr>\n",
              "      <th>1164367</th>\n",
              "      <td>love</td>\n",
              "      <td>5.000830</td>\n",
              "    </tr>\n",
              "    <tr>\n",
              "      <th>1176968</th>\n",
              "      <td>loved</td>\n",
              "      <td>4.391223</td>\n",
              "    </tr>\n",
              "    <tr>\n",
              "      <th>1737160</th>\n",
              "      <td>surprised</td>\n",
              "      <td>3.974819</td>\n",
              "    </tr>\n",
              "    <tr>\n",
              "      <th>717632</th>\n",
              "      <td>funny</td>\n",
              "      <td>3.958401</td>\n",
              "    </tr>\n",
              "    <tr>\n",
              "      <th>556520</th>\n",
              "      <td>excited</td>\n",
              "      <td>3.943133</td>\n",
              "    </tr>\n",
              "    <tr>\n",
              "      <th>778219</th>\n",
              "      <td>happy</td>\n",
              "      <td>3.867230</td>\n",
              "    </tr>\n",
              "    <tr>\n",
              "      <th>293285</th>\n",
              "      <td>beloved</td>\n",
              "      <td>3.857413</td>\n",
              "    </tr>\n",
              "    <tr>\n",
              "      <th>1180242</th>\n",
              "      <td>lovely</td>\n",
              "      <td>3.797080</td>\n",
              "    </tr>\n",
              "    <tr>\n",
              "      <th>714380</th>\n",
              "      <td>fun</td>\n",
              "      <td>3.757562</td>\n",
              "    </tr>\n",
              "    <tr>\n",
              "      <th>1631476</th>\n",
              "      <td>shocked</td>\n",
              "      <td>3.724444</td>\n",
              "    </tr>\n",
              "    <tr>\n",
              "      <th>2019989</th>\n",
              "      <td>unloved</td>\n",
              "      <td>3.717126</td>\n",
              "    </tr>\n",
              "    <tr>\n",
              "      <th>411907</th>\n",
              "      <td>content</td>\n",
              "      <td>3.601164</td>\n",
              "    </tr>\n",
              "    <tr>\n",
              "      <th>2010646</th>\n",
              "      <td>uncomfortable</td>\n",
              "      <td>3.555619</td>\n",
              "    </tr>\n",
              "    <tr>\n",
              "      <th>395314</th>\n",
              "      <td>comfortable</td>\n",
              "      <td>3.473955</td>\n",
              "    </tr>\n",
              "    <tr>\n",
              "      <th>1072258</th>\n",
              "      <td>joyful</td>\n",
              "      <td>3.455979</td>\n",
              "    </tr>\n",
              "  </tbody>\n",
              "</table>\n",
              "</div>\n",
              "    <div class=\"colab-df-buttons\">\n",
              "\n",
              "  <div class=\"colab-df-container\">\n",
              "    <button class=\"colab-df-convert\" onclick=\"convertToInteractive('df-5a1e9774-2b67-4ea5-aa4b-40d78ff67c4c')\"\n",
              "            title=\"Convert this dataframe to an interactive table.\"\n",
              "            style=\"display:none;\">\n",
              "\n",
              "  <svg xmlns=\"http://www.w3.org/2000/svg\" height=\"24px\" viewBox=\"0 -960 960 960\">\n",
              "    <path d=\"M120-120v-720h720v720H120Zm60-500h600v-160H180v160Zm220 220h160v-160H400v160Zm0 220h160v-160H400v160ZM180-400h160v-160H180v160Zm440 0h160v-160H620v160ZM180-180h160v-160H180v160Zm440 0h160v-160H620v160Z\"/>\n",
              "  </svg>\n",
              "    </button>\n",
              "\n",
              "  <style>\n",
              "    .colab-df-container {\n",
              "      display:flex;\n",
              "      gap: 12px;\n",
              "    }\n",
              "\n",
              "    .colab-df-convert {\n",
              "      background-color: #E8F0FE;\n",
              "      border: none;\n",
              "      border-radius: 50%;\n",
              "      cursor: pointer;\n",
              "      display: none;\n",
              "      fill: #1967D2;\n",
              "      height: 32px;\n",
              "      padding: 0 0 0 0;\n",
              "      width: 32px;\n",
              "    }\n",
              "\n",
              "    .colab-df-convert:hover {\n",
              "      background-color: #E2EBFA;\n",
              "      box-shadow: 0px 1px 2px rgba(60, 64, 67, 0.3), 0px 1px 3px 1px rgba(60, 64, 67, 0.15);\n",
              "      fill: #174EA6;\n",
              "    }\n",
              "\n",
              "    .colab-df-buttons div {\n",
              "      margin-bottom: 4px;\n",
              "    }\n",
              "\n",
              "    [theme=dark] .colab-df-convert {\n",
              "      background-color: #3B4455;\n",
              "      fill: #D2E3FC;\n",
              "    }\n",
              "\n",
              "    [theme=dark] .colab-df-convert:hover {\n",
              "      background-color: #434B5C;\n",
              "      box-shadow: 0px 1px 3px 1px rgba(0, 0, 0, 0.15);\n",
              "      filter: drop-shadow(0px 1px 2px rgba(0, 0, 0, 0.3));\n",
              "      fill: #FFFFFF;\n",
              "    }\n",
              "  </style>\n",
              "\n",
              "    <script>\n",
              "      const buttonEl =\n",
              "        document.querySelector('#df-5a1e9774-2b67-4ea5-aa4b-40d78ff67c4c button.colab-df-convert');\n",
              "      buttonEl.style.display =\n",
              "        google.colab.kernel.accessAllowed ? 'block' : 'none';\n",
              "\n",
              "      async function convertToInteractive(key) {\n",
              "        const element = document.querySelector('#df-5a1e9774-2b67-4ea5-aa4b-40d78ff67c4c');\n",
              "        const dataTable =\n",
              "          await google.colab.kernel.invokeFunction('convertToInteractive',\n",
              "                                                    [key], {});\n",
              "        if (!dataTable) return;\n",
              "\n",
              "        const docLinkHtml = 'Like what you see? Visit the ' +\n",
              "          '<a target=\"_blank\" href=https://colab.research.google.com/notebooks/data_table.ipynb>data table notebook</a>'\n",
              "          + ' to learn more about interactive tables.';\n",
              "        element.innerHTML = '';\n",
              "        dataTable['output_type'] = 'display_data';\n",
              "        await google.colab.output.renderOutput(dataTable, element);\n",
              "        const docLink = document.createElement('div');\n",
              "        docLink.innerHTML = docLinkHtml;\n",
              "        element.appendChild(docLink);\n",
              "      }\n",
              "    </script>\n",
              "  </div>\n",
              "\n",
              "\n",
              "<div id=\"df-398f6b83-cb54-448d-9a62-2357b27cd709\">\n",
              "  <button class=\"colab-df-quickchart\" onclick=\"quickchart('df-398f6b83-cb54-448d-9a62-2357b27cd709')\"\n",
              "            title=\"Suggest charts\"\n",
              "            style=\"display:none;\">\n",
              "\n",
              "<svg xmlns=\"http://www.w3.org/2000/svg\" height=\"24px\"viewBox=\"0 0 24 24\"\n",
              "     width=\"24px\">\n",
              "    <g>\n",
              "        <path d=\"M19 3H5c-1.1 0-2 .9-2 2v14c0 1.1.9 2 2 2h14c1.1 0 2-.9 2-2V5c0-1.1-.9-2-2-2zM9 17H7v-7h2v7zm4 0h-2V7h2v10zm4 0h-2v-4h2v4z\"/>\n",
              "    </g>\n",
              "</svg>\n",
              "  </button>\n",
              "\n",
              "<style>\n",
              "  .colab-df-quickchart {\n",
              "      --bg-color: #E8F0FE;\n",
              "      --fill-color: #1967D2;\n",
              "      --hover-bg-color: #E2EBFA;\n",
              "      --hover-fill-color: #174EA6;\n",
              "      --disabled-fill-color: #AAA;\n",
              "      --disabled-bg-color: #DDD;\n",
              "  }\n",
              "\n",
              "  [theme=dark] .colab-df-quickchart {\n",
              "      --bg-color: #3B4455;\n",
              "      --fill-color: #D2E3FC;\n",
              "      --hover-bg-color: #434B5C;\n",
              "      --hover-fill-color: #FFFFFF;\n",
              "      --disabled-bg-color: #3B4455;\n",
              "      --disabled-fill-color: #666;\n",
              "  }\n",
              "\n",
              "  .colab-df-quickchart {\n",
              "    background-color: var(--bg-color);\n",
              "    border: none;\n",
              "    border-radius: 50%;\n",
              "    cursor: pointer;\n",
              "    display: none;\n",
              "    fill: var(--fill-color);\n",
              "    height: 32px;\n",
              "    padding: 0;\n",
              "    width: 32px;\n",
              "  }\n",
              "\n",
              "  .colab-df-quickchart:hover {\n",
              "    background-color: var(--hover-bg-color);\n",
              "    box-shadow: 0 1px 2px rgba(60, 64, 67, 0.3), 0 1px 3px 1px rgba(60, 64, 67, 0.15);\n",
              "    fill: var(--button-hover-fill-color);\n",
              "  }\n",
              "\n",
              "  .colab-df-quickchart-complete:disabled,\n",
              "  .colab-df-quickchart-complete:disabled:hover {\n",
              "    background-color: var(--disabled-bg-color);\n",
              "    fill: var(--disabled-fill-color);\n",
              "    box-shadow: none;\n",
              "  }\n",
              "\n",
              "  .colab-df-spinner {\n",
              "    border: 2px solid var(--fill-color);\n",
              "    border-color: transparent;\n",
              "    border-bottom-color: var(--fill-color);\n",
              "    animation:\n",
              "      spin 1s steps(1) infinite;\n",
              "  }\n",
              "\n",
              "  @keyframes spin {\n",
              "    0% {\n",
              "      border-color: transparent;\n",
              "      border-bottom-color: var(--fill-color);\n",
              "      border-left-color: var(--fill-color);\n",
              "    }\n",
              "    20% {\n",
              "      border-color: transparent;\n",
              "      border-left-color: var(--fill-color);\n",
              "      border-top-color: var(--fill-color);\n",
              "    }\n",
              "    30% {\n",
              "      border-color: transparent;\n",
              "      border-left-color: var(--fill-color);\n",
              "      border-top-color: var(--fill-color);\n",
              "      border-right-color: var(--fill-color);\n",
              "    }\n",
              "    40% {\n",
              "      border-color: transparent;\n",
              "      border-right-color: var(--fill-color);\n",
              "      border-top-color: var(--fill-color);\n",
              "    }\n",
              "    60% {\n",
              "      border-color: transparent;\n",
              "      border-right-color: var(--fill-color);\n",
              "    }\n",
              "    80% {\n",
              "      border-color: transparent;\n",
              "      border-right-color: var(--fill-color);\n",
              "      border-bottom-color: var(--fill-color);\n",
              "    }\n",
              "    90% {\n",
              "      border-color: transparent;\n",
              "      border-bottom-color: var(--fill-color);\n",
              "    }\n",
              "  }\n",
              "</style>\n",
              "\n",
              "  <script>\n",
              "    async function quickchart(key) {\n",
              "      const quickchartButtonEl =\n",
              "        document.querySelector('#' + key + ' button');\n",
              "      quickchartButtonEl.disabled = true;  // To prevent multiple clicks.\n",
              "      quickchartButtonEl.classList.add('colab-df-spinner');\n",
              "      try {\n",
              "        const charts = await google.colab.kernel.invokeFunction(\n",
              "            'suggestCharts', [key], {});\n",
              "      } catch (error) {\n",
              "        console.error('Error during call to suggestCharts:', error);\n",
              "      }\n",
              "      quickchartButtonEl.classList.remove('colab-df-spinner');\n",
              "      quickchartButtonEl.classList.add('colab-df-quickchart-complete');\n",
              "    }\n",
              "    (() => {\n",
              "      let quickchartButtonEl =\n",
              "        document.querySelector('#df-398f6b83-cb54-448d-9a62-2357b27cd709 button');\n",
              "      quickchartButtonEl.style.display =\n",
              "        google.colab.kernel.accessAllowed ? 'block' : 'none';\n",
              "    })();\n",
              "  </script>\n",
              "</div>\n",
              "\n",
              "    </div>\n",
              "  </div>\n"
            ],
            "application/vnd.google.colaboratory.intrinsic+json": {
              "type": "dataframe",
              "summary": "{\n  \"name\": \"lr_weights\",\n  \"rows\": 15,\n  \"fields\": [\n    {\n      \"column\": \"words\",\n      \"properties\": {\n        \"dtype\": \"string\",\n        \"num_unique_values\": 15,\n        \"samples\": [\n          \"shocked\",\n          \"content\",\n          \"love\"\n        ],\n        \"semantic_type\": \"\",\n        \"description\": \"\"\n      }\n    },\n    {\n      \"column\": \"weights\",\n      \"properties\": {\n        \"dtype\": \"number\",\n        \"std\": 0.390659739103942,\n        \"min\": 3.45597935944162,\n        \"max\": 5.000829951697718,\n        \"num_unique_values\": 15,\n        \"samples\": [\n          3.7244441867964753,\n          3.601164417681391,\n          5.000829951697718\n        ],\n        \"semantic_type\": \"\",\n        \"description\": \"\"\n      }\n    }\n  ]\n}"
            }
          },
          "metadata": {},
          "execution_count": 36
        }
      ],
      "source": [
        "lr_weights = pd.DataFrame(list(\n",
        "    zip(\n",
        "        bow_counts.get_feature_names_out(),\n",
        "        lr_model_all_new.coef_[0])\n",
        "    ),\n",
        "    columns=['words','weights']\n",
        ")\n",
        "\n",
        "lr_weights.sort_values(['weights'],ascending = False)[:15]"
      ]
    },
    {
      "cell_type": "code",
      "execution_count": null,
      "metadata": {
        "colab": {
          "base_uri": "https://localhost:8080/",
          "height": 519
        },
        "id": "wvGwtIIXxD6B",
        "outputId": "828cbb4b-7c7b-475d-d82c-03bfa7542ee4"
      },
      "outputs": [
        {
          "output_type": "execute_result",
          "data": {
            "text/plain": [
              "               words   weights\n",
              "405212     concerned -4.294538\n",
              "239688         avoid -4.402700\n",
              "789233          hate -4.696065\n",
              "794947       hateful -4.812297\n",
              "474520   discouraged -5.000261\n",
              "185096         angry -5.151917\n",
              "192094       anxiety -5.187809\n",
              "792788         hated -5.382998\n",
              "2104378     whatever -5.426239\n",
              "2170023        worry -5.453362\n",
              "1590068      sadness -6.070557\n",
              "1229591   melancholy -6.274938\n",
              "523620         empty -6.727549\n",
              "455526     depressed -7.035787\n",
              "1585789          sad -8.515427"
            ],
            "text/html": [
              "\n",
              "  <div id=\"df-767b9a99-ef38-411b-af25-da45c97ae835\" class=\"colab-df-container\">\n",
              "    <div>\n",
              "<style scoped>\n",
              "    .dataframe tbody tr th:only-of-type {\n",
              "        vertical-align: middle;\n",
              "    }\n",
              "\n",
              "    .dataframe tbody tr th {\n",
              "        vertical-align: top;\n",
              "    }\n",
              "\n",
              "    .dataframe thead th {\n",
              "        text-align: right;\n",
              "    }\n",
              "</style>\n",
              "<table border=\"1\" class=\"dataframe\">\n",
              "  <thead>\n",
              "    <tr style=\"text-align: right;\">\n",
              "      <th></th>\n",
              "      <th>words</th>\n",
              "      <th>weights</th>\n",
              "    </tr>\n",
              "  </thead>\n",
              "  <tbody>\n",
              "    <tr>\n",
              "      <th>405212</th>\n",
              "      <td>concerned</td>\n",
              "      <td>-4.294538</td>\n",
              "    </tr>\n",
              "    <tr>\n",
              "      <th>239688</th>\n",
              "      <td>avoid</td>\n",
              "      <td>-4.402700</td>\n",
              "    </tr>\n",
              "    <tr>\n",
              "      <th>789233</th>\n",
              "      <td>hate</td>\n",
              "      <td>-4.696065</td>\n",
              "    </tr>\n",
              "    <tr>\n",
              "      <th>794947</th>\n",
              "      <td>hateful</td>\n",
              "      <td>-4.812297</td>\n",
              "    </tr>\n",
              "    <tr>\n",
              "      <th>474520</th>\n",
              "      <td>discouraged</td>\n",
              "      <td>-5.000261</td>\n",
              "    </tr>\n",
              "    <tr>\n",
              "      <th>185096</th>\n",
              "      <td>angry</td>\n",
              "      <td>-5.151917</td>\n",
              "    </tr>\n",
              "    <tr>\n",
              "      <th>192094</th>\n",
              "      <td>anxiety</td>\n",
              "      <td>-5.187809</td>\n",
              "    </tr>\n",
              "    <tr>\n",
              "      <th>792788</th>\n",
              "      <td>hated</td>\n",
              "      <td>-5.382998</td>\n",
              "    </tr>\n",
              "    <tr>\n",
              "      <th>2104378</th>\n",
              "      <td>whatever</td>\n",
              "      <td>-5.426239</td>\n",
              "    </tr>\n",
              "    <tr>\n",
              "      <th>2170023</th>\n",
              "      <td>worry</td>\n",
              "      <td>-5.453362</td>\n",
              "    </tr>\n",
              "    <tr>\n",
              "      <th>1590068</th>\n",
              "      <td>sadness</td>\n",
              "      <td>-6.070557</td>\n",
              "    </tr>\n",
              "    <tr>\n",
              "      <th>1229591</th>\n",
              "      <td>melancholy</td>\n",
              "      <td>-6.274938</td>\n",
              "    </tr>\n",
              "    <tr>\n",
              "      <th>523620</th>\n",
              "      <td>empty</td>\n",
              "      <td>-6.727549</td>\n",
              "    </tr>\n",
              "    <tr>\n",
              "      <th>455526</th>\n",
              "      <td>depressed</td>\n",
              "      <td>-7.035787</td>\n",
              "    </tr>\n",
              "    <tr>\n",
              "      <th>1585789</th>\n",
              "      <td>sad</td>\n",
              "      <td>-8.515427</td>\n",
              "    </tr>\n",
              "  </tbody>\n",
              "</table>\n",
              "</div>\n",
              "    <div class=\"colab-df-buttons\">\n",
              "\n",
              "  <div class=\"colab-df-container\">\n",
              "    <button class=\"colab-df-convert\" onclick=\"convertToInteractive('df-767b9a99-ef38-411b-af25-da45c97ae835')\"\n",
              "            title=\"Convert this dataframe to an interactive table.\"\n",
              "            style=\"display:none;\">\n",
              "\n",
              "  <svg xmlns=\"http://www.w3.org/2000/svg\" height=\"24px\" viewBox=\"0 -960 960 960\">\n",
              "    <path d=\"M120-120v-720h720v720H120Zm60-500h600v-160H180v160Zm220 220h160v-160H400v160Zm0 220h160v-160H400v160ZM180-400h160v-160H180v160Zm440 0h160v-160H620v160ZM180-180h160v-160H180v160Zm440 0h160v-160H620v160Z\"/>\n",
              "  </svg>\n",
              "    </button>\n",
              "\n",
              "  <style>\n",
              "    .colab-df-container {\n",
              "      display:flex;\n",
              "      gap: 12px;\n",
              "    }\n",
              "\n",
              "    .colab-df-convert {\n",
              "      background-color: #E8F0FE;\n",
              "      border: none;\n",
              "      border-radius: 50%;\n",
              "      cursor: pointer;\n",
              "      display: none;\n",
              "      fill: #1967D2;\n",
              "      height: 32px;\n",
              "      padding: 0 0 0 0;\n",
              "      width: 32px;\n",
              "    }\n",
              "\n",
              "    .colab-df-convert:hover {\n",
              "      background-color: #E2EBFA;\n",
              "      box-shadow: 0px 1px 2px rgba(60, 64, 67, 0.3), 0px 1px 3px 1px rgba(60, 64, 67, 0.15);\n",
              "      fill: #174EA6;\n",
              "    }\n",
              "\n",
              "    .colab-df-buttons div {\n",
              "      margin-bottom: 4px;\n",
              "    }\n",
              "\n",
              "    [theme=dark] .colab-df-convert {\n",
              "      background-color: #3B4455;\n",
              "      fill: #D2E3FC;\n",
              "    }\n",
              "\n",
              "    [theme=dark] .colab-df-convert:hover {\n",
              "      background-color: #434B5C;\n",
              "      box-shadow: 0px 1px 3px 1px rgba(0, 0, 0, 0.15);\n",
              "      filter: drop-shadow(0px 1px 2px rgba(0, 0, 0, 0.3));\n",
              "      fill: #FFFFFF;\n",
              "    }\n",
              "  </style>\n",
              "\n",
              "    <script>\n",
              "      const buttonEl =\n",
              "        document.querySelector('#df-767b9a99-ef38-411b-af25-da45c97ae835 button.colab-df-convert');\n",
              "      buttonEl.style.display =\n",
              "        google.colab.kernel.accessAllowed ? 'block' : 'none';\n",
              "\n",
              "      async function convertToInteractive(key) {\n",
              "        const element = document.querySelector('#df-767b9a99-ef38-411b-af25-da45c97ae835');\n",
              "        const dataTable =\n",
              "          await google.colab.kernel.invokeFunction('convertToInteractive',\n",
              "                                                    [key], {});\n",
              "        if (!dataTable) return;\n",
              "\n",
              "        const docLinkHtml = 'Like what you see? Visit the ' +\n",
              "          '<a target=\"_blank\" href=https://colab.research.google.com/notebooks/data_table.ipynb>data table notebook</a>'\n",
              "          + ' to learn more about interactive tables.';\n",
              "        element.innerHTML = '';\n",
              "        dataTable['output_type'] = 'display_data';\n",
              "        await google.colab.output.renderOutput(dataTable, element);\n",
              "        const docLink = document.createElement('div');\n",
              "        docLink.innerHTML = docLinkHtml;\n",
              "        element.appendChild(docLink);\n",
              "      }\n",
              "    </script>\n",
              "  </div>\n",
              "\n",
              "\n",
              "<div id=\"df-4ff8390e-a5e0-4ed4-9d22-746c10e16978\">\n",
              "  <button class=\"colab-df-quickchart\" onclick=\"quickchart('df-4ff8390e-a5e0-4ed4-9d22-746c10e16978')\"\n",
              "            title=\"Suggest charts\"\n",
              "            style=\"display:none;\">\n",
              "\n",
              "<svg xmlns=\"http://www.w3.org/2000/svg\" height=\"24px\"viewBox=\"0 0 24 24\"\n",
              "     width=\"24px\">\n",
              "    <g>\n",
              "        <path d=\"M19 3H5c-1.1 0-2 .9-2 2v14c0 1.1.9 2 2 2h14c1.1 0 2-.9 2-2V5c0-1.1-.9-2-2-2zM9 17H7v-7h2v7zm4 0h-2V7h2v10zm4 0h-2v-4h2v4z\"/>\n",
              "    </g>\n",
              "</svg>\n",
              "  </button>\n",
              "\n",
              "<style>\n",
              "  .colab-df-quickchart {\n",
              "      --bg-color: #E8F0FE;\n",
              "      --fill-color: #1967D2;\n",
              "      --hover-bg-color: #E2EBFA;\n",
              "      --hover-fill-color: #174EA6;\n",
              "      --disabled-fill-color: #AAA;\n",
              "      --disabled-bg-color: #DDD;\n",
              "  }\n",
              "\n",
              "  [theme=dark] .colab-df-quickchart {\n",
              "      --bg-color: #3B4455;\n",
              "      --fill-color: #D2E3FC;\n",
              "      --hover-bg-color: #434B5C;\n",
              "      --hover-fill-color: #FFFFFF;\n",
              "      --disabled-bg-color: #3B4455;\n",
              "      --disabled-fill-color: #666;\n",
              "  }\n",
              "\n",
              "  .colab-df-quickchart {\n",
              "    background-color: var(--bg-color);\n",
              "    border: none;\n",
              "    border-radius: 50%;\n",
              "    cursor: pointer;\n",
              "    display: none;\n",
              "    fill: var(--fill-color);\n",
              "    height: 32px;\n",
              "    padding: 0;\n",
              "    width: 32px;\n",
              "  }\n",
              "\n",
              "  .colab-df-quickchart:hover {\n",
              "    background-color: var(--hover-bg-color);\n",
              "    box-shadow: 0 1px 2px rgba(60, 64, 67, 0.3), 0 1px 3px 1px rgba(60, 64, 67, 0.15);\n",
              "    fill: var(--button-hover-fill-color);\n",
              "  }\n",
              "\n",
              "  .colab-df-quickchart-complete:disabled,\n",
              "  .colab-df-quickchart-complete:disabled:hover {\n",
              "    background-color: var(--disabled-bg-color);\n",
              "    fill: var(--disabled-fill-color);\n",
              "    box-shadow: none;\n",
              "  }\n",
              "\n",
              "  .colab-df-spinner {\n",
              "    border: 2px solid var(--fill-color);\n",
              "    border-color: transparent;\n",
              "    border-bottom-color: var(--fill-color);\n",
              "    animation:\n",
              "      spin 1s steps(1) infinite;\n",
              "  }\n",
              "\n",
              "  @keyframes spin {\n",
              "    0% {\n",
              "      border-color: transparent;\n",
              "      border-bottom-color: var(--fill-color);\n",
              "      border-left-color: var(--fill-color);\n",
              "    }\n",
              "    20% {\n",
              "      border-color: transparent;\n",
              "      border-left-color: var(--fill-color);\n",
              "      border-top-color: var(--fill-color);\n",
              "    }\n",
              "    30% {\n",
              "      border-color: transparent;\n",
              "      border-left-color: var(--fill-color);\n",
              "      border-top-color: var(--fill-color);\n",
              "      border-right-color: var(--fill-color);\n",
              "    }\n",
              "    40% {\n",
              "      border-color: transparent;\n",
              "      border-right-color: var(--fill-color);\n",
              "      border-top-color: var(--fill-color);\n",
              "    }\n",
              "    60% {\n",
              "      border-color: transparent;\n",
              "      border-right-color: var(--fill-color);\n",
              "    }\n",
              "    80% {\n",
              "      border-color: transparent;\n",
              "      border-right-color: var(--fill-color);\n",
              "      border-bottom-color: var(--fill-color);\n",
              "    }\n",
              "    90% {\n",
              "      border-color: transparent;\n",
              "      border-bottom-color: var(--fill-color);\n",
              "    }\n",
              "  }\n",
              "</style>\n",
              "\n",
              "  <script>\n",
              "    async function quickchart(key) {\n",
              "      const quickchartButtonEl =\n",
              "        document.querySelector('#' + key + ' button');\n",
              "      quickchartButtonEl.disabled = true;  // To prevent multiple clicks.\n",
              "      quickchartButtonEl.classList.add('colab-df-spinner');\n",
              "      try {\n",
              "        const charts = await google.colab.kernel.invokeFunction(\n",
              "            'suggestCharts', [key], {});\n",
              "      } catch (error) {\n",
              "        console.error('Error during call to suggestCharts:', error);\n",
              "      }\n",
              "      quickchartButtonEl.classList.remove('colab-df-spinner');\n",
              "      quickchartButtonEl.classList.add('colab-df-quickchart-complete');\n",
              "    }\n",
              "    (() => {\n",
              "      let quickchartButtonEl =\n",
              "        document.querySelector('#df-4ff8390e-a5e0-4ed4-9d22-746c10e16978 button');\n",
              "      quickchartButtonEl.style.display =\n",
              "        google.colab.kernel.accessAllowed ? 'block' : 'none';\n",
              "    })();\n",
              "  </script>\n",
              "</div>\n",
              "\n",
              "    </div>\n",
              "  </div>\n"
            ],
            "application/vnd.google.colaboratory.intrinsic+json": {
              "type": "dataframe",
              "summary": "{\n  \"name\": \"lr_weights\",\n  \"rows\": 15,\n  \"fields\": [\n    {\n      \"column\": \"words\",\n      \"properties\": {\n        \"dtype\": \"string\",\n        \"num_unique_values\": 15,\n        \"samples\": [\n          \"worry\",\n          \"melancholy\",\n          \"concerned\"\n        ],\n        \"semantic_type\": \"\",\n        \"description\": \"\"\n      }\n    },\n    {\n      \"column\": \"weights\",\n      \"properties\": {\n        \"dtype\": \"number\",\n        \"std\": 1.1307883180963798,\n        \"min\": -8.515427234816356,\n        \"max\": -4.294537685212792,\n        \"num_unique_values\": 15,\n        \"samples\": [\n          -5.453361959897428,\n          -6.2749383259637845,\n          -4.294537685212792\n        ],\n        \"semantic_type\": \"\",\n        \"description\": \"\"\n      }\n    }\n  ]\n}"
            }
          },
          "metadata": {},
          "execution_count": 37
        }
      ],
      "source": [
        "lr_weights.sort_values(['weights'],ascending = False)[-15:]"
      ]
    },
    {
      "cell_type": "markdown",
      "source": [
        "## 3.3 Random forest"
      ],
      "metadata": {
        "id": "nkE65hvf7AYc"
      }
    },
    {
      "cell_type": "code",
      "execution_count": 39,
      "metadata": {
        "id": "dsydqtBtxKcf"
      },
      "outputs": [],
      "source": [
        "rf_model_all = RandomForestClassifier(n_estimators=50)\n",
        "\n",
        "# Entrenamiento\n",
        "rf_model_all.fit(X_train_bow, y_train_bow)\n",
        "\n",
        "# predicciones\n",
        "test_pred_lr_prob = rf_model_all.predict_proba(X_test_bow)\n",
        "test_pred_lr_all = rf_model_all.predict(X_test_bow)"
      ]
    },
    {
      "cell_type": "code",
      "execution_count": 40,
      "metadata": {
        "id": "St8dsmmAxOlq",
        "colab": {
          "base_uri": "https://localhost:8080/"
        },
        "outputId": "7ed58668-51e5-4b10-fde4-404a9bd685ef"
      },
      "outputs": [
        {
          "output_type": "stream",
          "name": "stdout",
          "text": [
            "F1 score:  0.9705193501617161\n",
            "Accuracy:  95.9596474244663\n"
          ]
        }
      ],
      "source": [
        "print(\"F1 score: \", f1_score(y_test_bow,test_pred_lr_all))\n",
        "print(\"Accuracy: \", accuracy_score(y_test_bow,test_pred_lr_all)* 100)"
      ]
    },
    {
      "cell_type": "markdown",
      "source": [
        "Vemos que los resultados entregados por random forest son un poco más reales que la segunda regresión y por lo tanto con menor probabilidad de overfitting. Además, son mejores resultados que los generados en la primera regresión, por lo que para este ejercicio consideramos que es el modelo más apto."
      ],
      "metadata": {
        "id": "-6C20AeW7jam"
      }
    },
    {
      "cell_type": "code",
      "source": [
        "feature_importances = pd.DataFrame(\n",
        "    rf_model_all.feature_importances_,\n",
        "    index=bow_counts.get_feature_names_out(),\n",
        "    columns=['importance']\n",
        ")"
      ],
      "metadata": {
        "id": "cMgQMEHTcUY9"
      },
      "execution_count": 41,
      "outputs": []
    },
    {
      "cell_type": "code",
      "source": [
        "feature_importances.sort_values(['importance'], ascending=False)[:10]"
      ],
      "metadata": {
        "id": "aBHwuqJ9cY4P",
        "colab": {
          "base_uri": "https://localhost:8080/",
          "height": 363
        },
        "outputId": "341cd13b-f8d9-43b9-83be-e60fb046f40b"
      },
      "execution_count": 42,
      "outputs": [
        {
          "output_type": "execute_result",
          "data": {
            "text/plain": [
              "            importance\n",
              "sad           0.022814\n",
              "hated         0.014965\n",
              "i hate        0.013421\n",
              "depressed     0.012403\n",
              "angry         0.011380\n",
              "love          0.011111\n",
              "empty         0.010968\n",
              "hate          0.010716\n",
              "melancholy    0.008978\n",
              "whatever      0.007225"
            ],
            "text/html": [
              "\n",
              "  <div id=\"df-f307341c-ab61-498a-9e2e-d820427662d2\" class=\"colab-df-container\">\n",
              "    <div>\n",
              "<style scoped>\n",
              "    .dataframe tbody tr th:only-of-type {\n",
              "        vertical-align: middle;\n",
              "    }\n",
              "\n",
              "    .dataframe tbody tr th {\n",
              "        vertical-align: top;\n",
              "    }\n",
              "\n",
              "    .dataframe thead th {\n",
              "        text-align: right;\n",
              "    }\n",
              "</style>\n",
              "<table border=\"1\" class=\"dataframe\">\n",
              "  <thead>\n",
              "    <tr style=\"text-align: right;\">\n",
              "      <th></th>\n",
              "      <th>importance</th>\n",
              "    </tr>\n",
              "  </thead>\n",
              "  <tbody>\n",
              "    <tr>\n",
              "      <th>sad</th>\n",
              "      <td>0.022814</td>\n",
              "    </tr>\n",
              "    <tr>\n",
              "      <th>hated</th>\n",
              "      <td>0.014965</td>\n",
              "    </tr>\n",
              "    <tr>\n",
              "      <th>i hate</th>\n",
              "      <td>0.013421</td>\n",
              "    </tr>\n",
              "    <tr>\n",
              "      <th>depressed</th>\n",
              "      <td>0.012403</td>\n",
              "    </tr>\n",
              "    <tr>\n",
              "      <th>angry</th>\n",
              "      <td>0.011380</td>\n",
              "    </tr>\n",
              "    <tr>\n",
              "      <th>love</th>\n",
              "      <td>0.011111</td>\n",
              "    </tr>\n",
              "    <tr>\n",
              "      <th>empty</th>\n",
              "      <td>0.010968</td>\n",
              "    </tr>\n",
              "    <tr>\n",
              "      <th>hate</th>\n",
              "      <td>0.010716</td>\n",
              "    </tr>\n",
              "    <tr>\n",
              "      <th>melancholy</th>\n",
              "      <td>0.008978</td>\n",
              "    </tr>\n",
              "    <tr>\n",
              "      <th>whatever</th>\n",
              "      <td>0.007225</td>\n",
              "    </tr>\n",
              "  </tbody>\n",
              "</table>\n",
              "</div>\n",
              "    <div class=\"colab-df-buttons\">\n",
              "\n",
              "  <div class=\"colab-df-container\">\n",
              "    <button class=\"colab-df-convert\" onclick=\"convertToInteractive('df-f307341c-ab61-498a-9e2e-d820427662d2')\"\n",
              "            title=\"Convert this dataframe to an interactive table.\"\n",
              "            style=\"display:none;\">\n",
              "\n",
              "  <svg xmlns=\"http://www.w3.org/2000/svg\" height=\"24px\" viewBox=\"0 -960 960 960\">\n",
              "    <path d=\"M120-120v-720h720v720H120Zm60-500h600v-160H180v160Zm220 220h160v-160H400v160Zm0 220h160v-160H400v160ZM180-400h160v-160H180v160Zm440 0h160v-160H620v160ZM180-180h160v-160H180v160Zm440 0h160v-160H620v160Z\"/>\n",
              "  </svg>\n",
              "    </button>\n",
              "\n",
              "  <style>\n",
              "    .colab-df-container {\n",
              "      display:flex;\n",
              "      gap: 12px;\n",
              "    }\n",
              "\n",
              "    .colab-df-convert {\n",
              "      background-color: #E8F0FE;\n",
              "      border: none;\n",
              "      border-radius: 50%;\n",
              "      cursor: pointer;\n",
              "      display: none;\n",
              "      fill: #1967D2;\n",
              "      height: 32px;\n",
              "      padding: 0 0 0 0;\n",
              "      width: 32px;\n",
              "    }\n",
              "\n",
              "    .colab-df-convert:hover {\n",
              "      background-color: #E2EBFA;\n",
              "      box-shadow: 0px 1px 2px rgba(60, 64, 67, 0.3), 0px 1px 3px 1px rgba(60, 64, 67, 0.15);\n",
              "      fill: #174EA6;\n",
              "    }\n",
              "\n",
              "    .colab-df-buttons div {\n",
              "      margin-bottom: 4px;\n",
              "    }\n",
              "\n",
              "    [theme=dark] .colab-df-convert {\n",
              "      background-color: #3B4455;\n",
              "      fill: #D2E3FC;\n",
              "    }\n",
              "\n",
              "    [theme=dark] .colab-df-convert:hover {\n",
              "      background-color: #434B5C;\n",
              "      box-shadow: 0px 1px 3px 1px rgba(0, 0, 0, 0.15);\n",
              "      filter: drop-shadow(0px 1px 2px rgba(0, 0, 0, 0.3));\n",
              "      fill: #FFFFFF;\n",
              "    }\n",
              "  </style>\n",
              "\n",
              "    <script>\n",
              "      const buttonEl =\n",
              "        document.querySelector('#df-f307341c-ab61-498a-9e2e-d820427662d2 button.colab-df-convert');\n",
              "      buttonEl.style.display =\n",
              "        google.colab.kernel.accessAllowed ? 'block' : 'none';\n",
              "\n",
              "      async function convertToInteractive(key) {\n",
              "        const element = document.querySelector('#df-f307341c-ab61-498a-9e2e-d820427662d2');\n",
              "        const dataTable =\n",
              "          await google.colab.kernel.invokeFunction('convertToInteractive',\n",
              "                                                    [key], {});\n",
              "        if (!dataTable) return;\n",
              "\n",
              "        const docLinkHtml = 'Like what you see? Visit the ' +\n",
              "          '<a target=\"_blank\" href=https://colab.research.google.com/notebooks/data_table.ipynb>data table notebook</a>'\n",
              "          + ' to learn more about interactive tables.';\n",
              "        element.innerHTML = '';\n",
              "        dataTable['output_type'] = 'display_data';\n",
              "        await google.colab.output.renderOutput(dataTable, element);\n",
              "        const docLink = document.createElement('div');\n",
              "        docLink.innerHTML = docLinkHtml;\n",
              "        element.appendChild(docLink);\n",
              "      }\n",
              "    </script>\n",
              "  </div>\n",
              "\n",
              "\n",
              "<div id=\"df-c7e9e5ab-9480-47dd-99c9-90a24702ff14\">\n",
              "  <button class=\"colab-df-quickchart\" onclick=\"quickchart('df-c7e9e5ab-9480-47dd-99c9-90a24702ff14')\"\n",
              "            title=\"Suggest charts\"\n",
              "            style=\"display:none;\">\n",
              "\n",
              "<svg xmlns=\"http://www.w3.org/2000/svg\" height=\"24px\"viewBox=\"0 0 24 24\"\n",
              "     width=\"24px\">\n",
              "    <g>\n",
              "        <path d=\"M19 3H5c-1.1 0-2 .9-2 2v14c0 1.1.9 2 2 2h14c1.1 0 2-.9 2-2V5c0-1.1-.9-2-2-2zM9 17H7v-7h2v7zm4 0h-2V7h2v10zm4 0h-2v-4h2v4z\"/>\n",
              "    </g>\n",
              "</svg>\n",
              "  </button>\n",
              "\n",
              "<style>\n",
              "  .colab-df-quickchart {\n",
              "      --bg-color: #E8F0FE;\n",
              "      --fill-color: #1967D2;\n",
              "      --hover-bg-color: #E2EBFA;\n",
              "      --hover-fill-color: #174EA6;\n",
              "      --disabled-fill-color: #AAA;\n",
              "      --disabled-bg-color: #DDD;\n",
              "  }\n",
              "\n",
              "  [theme=dark] .colab-df-quickchart {\n",
              "      --bg-color: #3B4455;\n",
              "      --fill-color: #D2E3FC;\n",
              "      --hover-bg-color: #434B5C;\n",
              "      --hover-fill-color: #FFFFFF;\n",
              "      --disabled-bg-color: #3B4455;\n",
              "      --disabled-fill-color: #666;\n",
              "  }\n",
              "\n",
              "  .colab-df-quickchart {\n",
              "    background-color: var(--bg-color);\n",
              "    border: none;\n",
              "    border-radius: 50%;\n",
              "    cursor: pointer;\n",
              "    display: none;\n",
              "    fill: var(--fill-color);\n",
              "    height: 32px;\n",
              "    padding: 0;\n",
              "    width: 32px;\n",
              "  }\n",
              "\n",
              "  .colab-df-quickchart:hover {\n",
              "    background-color: var(--hover-bg-color);\n",
              "    box-shadow: 0 1px 2px rgba(60, 64, 67, 0.3), 0 1px 3px 1px rgba(60, 64, 67, 0.15);\n",
              "    fill: var(--button-hover-fill-color);\n",
              "  }\n",
              "\n",
              "  .colab-df-quickchart-complete:disabled,\n",
              "  .colab-df-quickchart-complete:disabled:hover {\n",
              "    background-color: var(--disabled-bg-color);\n",
              "    fill: var(--disabled-fill-color);\n",
              "    box-shadow: none;\n",
              "  }\n",
              "\n",
              "  .colab-df-spinner {\n",
              "    border: 2px solid var(--fill-color);\n",
              "    border-color: transparent;\n",
              "    border-bottom-color: var(--fill-color);\n",
              "    animation:\n",
              "      spin 1s steps(1) infinite;\n",
              "  }\n",
              "\n",
              "  @keyframes spin {\n",
              "    0% {\n",
              "      border-color: transparent;\n",
              "      border-bottom-color: var(--fill-color);\n",
              "      border-left-color: var(--fill-color);\n",
              "    }\n",
              "    20% {\n",
              "      border-color: transparent;\n",
              "      border-left-color: var(--fill-color);\n",
              "      border-top-color: var(--fill-color);\n",
              "    }\n",
              "    30% {\n",
              "      border-color: transparent;\n",
              "      border-left-color: var(--fill-color);\n",
              "      border-top-color: var(--fill-color);\n",
              "      border-right-color: var(--fill-color);\n",
              "    }\n",
              "    40% {\n",
              "      border-color: transparent;\n",
              "      border-right-color: var(--fill-color);\n",
              "      border-top-color: var(--fill-color);\n",
              "    }\n",
              "    60% {\n",
              "      border-color: transparent;\n",
              "      border-right-color: var(--fill-color);\n",
              "    }\n",
              "    80% {\n",
              "      border-color: transparent;\n",
              "      border-right-color: var(--fill-color);\n",
              "      border-bottom-color: var(--fill-color);\n",
              "    }\n",
              "    90% {\n",
              "      border-color: transparent;\n",
              "      border-bottom-color: var(--fill-color);\n",
              "    }\n",
              "  }\n",
              "</style>\n",
              "\n",
              "  <script>\n",
              "    async function quickchart(key) {\n",
              "      const quickchartButtonEl =\n",
              "        document.querySelector('#' + key + ' button');\n",
              "      quickchartButtonEl.disabled = true;  // To prevent multiple clicks.\n",
              "      quickchartButtonEl.classList.add('colab-df-spinner');\n",
              "      try {\n",
              "        const charts = await google.colab.kernel.invokeFunction(\n",
              "            'suggestCharts', [key], {});\n",
              "      } catch (error) {\n",
              "        console.error('Error during call to suggestCharts:', error);\n",
              "      }\n",
              "      quickchartButtonEl.classList.remove('colab-df-spinner');\n",
              "      quickchartButtonEl.classList.add('colab-df-quickchart-complete');\n",
              "    }\n",
              "    (() => {\n",
              "      let quickchartButtonEl =\n",
              "        document.querySelector('#df-c7e9e5ab-9480-47dd-99c9-90a24702ff14 button');\n",
              "      quickchartButtonEl.style.display =\n",
              "        google.colab.kernel.accessAllowed ? 'block' : 'none';\n",
              "    })();\n",
              "  </script>\n",
              "</div>\n",
              "\n",
              "    </div>\n",
              "  </div>\n"
            ],
            "application/vnd.google.colaboratory.intrinsic+json": {
              "type": "dataframe",
              "summary": "{\n  \"name\": \"feature_importances\",\n  \"rows\": 10,\n  \"fields\": [\n    {\n      \"column\": \"importance\",\n      \"properties\": {\n        \"dtype\": \"number\",\n        \"std\": 0.0042446021092390545,\n        \"min\": 0.00722495126182674,\n        \"max\": 0.022813599968972902,\n        \"num_unique_values\": 10,\n        \"samples\": [\n          0.008977592795795734,\n          0.014965304003680043,\n          0.011111168517775279\n        ],\n        \"semantic_type\": \"\",\n        \"description\": \"\"\n      }\n    }\n  ]\n}"
            }
          },
          "metadata": {},
          "execution_count": 42
        }
      ]
    },
    {
      "cell_type": "markdown",
      "source": [
        "Revisamos las features más importantes"
      ],
      "metadata": {
        "id": "oTEt6JR97mFL"
      }
    },
    {
      "cell_type": "code",
      "source": [
        "from sklearn.metrics import roc_curve, auc\n",
        "import matplotlib.pyplot as plt\n",
        "\n",
        "# Calculando la curva ROC\n",
        "fpr, tpr, thresholds = roc_curve(y_test_bow, test_pred_lr_prob[:, 1])\n",
        "roc_auc = auc(fpr, tpr)\n",
        "\n",
        "# Graficando la curva\n",
        "plt.figure()\n",
        "plt.plot(fpr, tpr, color='darkorange', lw=2, label=f'ROC curve (area = {roc_auc:.2f})')\n",
        "plt.plot([0, 1], [0, 1], color='navy', lw=2, linestyle='--')\n",
        "plt.xlabel('False Positive Rate')\n",
        "plt.ylabel('True Positive Rate')\n",
        "plt.title('Receiver Operating Characteristic (ROC)')\n",
        "plt.legend(loc=\"lower right\")\n",
        "plt.show()"
      ],
      "metadata": {
        "id": "jscbXCRNcbzr",
        "colab": {
          "base_uri": "https://localhost:8080/",
          "height": 472
        },
        "outputId": "17c4f68b-4659-42b0-f9d1-63d9f62e0732"
      },
      "execution_count": 43,
      "outputs": [
        {
          "output_type": "display_data",
          "data": {
            "text/plain": [
              "<Figure size 640x480 with 1 Axes>"
            ],
            "image/png": "[encoded data removed]"
          },
          "metadata": {}
        }
      ]
    },
    {
      "cell_type": "markdown",
      "source": [
        "Finalmente observamos la curva ROC AUC generada"
      ],
      "metadata": {
        "id": "K6hv0_Vk7oZn"
      }
    },
    {
      "cell_type": "markdown",
      "source": [
        "# 4. Conclusiones"
      ],
      "metadata": {
        "id": "KRQ-iPCv-I-w"
      }
    },
    {
      "cell_type": "markdown",
      "source": [
        "En este proyecto se realizó un texto de análisis de emociones; los experimentos se basaron en la tarea de clasificar el sentimiento del texto de las expresiones emocionales presentes en un corpus grande. Después de realizar el pre-procesamiento y la transformación de texto: tokenizado, stopword-removing, stemming. Se entrenaron diferentes tipos de modelo de aprendizaje para distinguir solo entre los estados de emociones positivas y negativas"
      ],
      "metadata": {
        "id": "hn0ngNH_-60_"
      }
    },
    {
      "cell_type": "markdown",
      "source": [
        "Luego de comparar diferentes modelos, tales como Regresión Logística y Random Forest, el modelo de Random Forest es considerado más eficiente para la tarea de análisis de sentimiento. Tanto en accuracy como en F1-Score tiene resultados bastante bueno y no llegando al extremo de un modelo overfitting como el caso de la regresión logísctica ajustada."
      ],
      "metadata": {
        "id": "W97_H1bO_BQ_"
      }
    },
    {
      "cell_type": "markdown",
      "source": [
        "La importancia de las features también demostró que Random Forest consiguió reconocer y emplear eficazmente términos fundamentales en los textos que representan las emociones, lo cual favoreció su excelente desempeño. Pese a que el conjunto de datos planteaba algunos retos, como el desequilibrio de clases y la exigencia de suprimir las emociones neutrales, el modelo de Random Forest logró gestionar estos elementos de forma correcta, logrando una categorización bastante precisa de las emociones."
      ],
      "metadata": {
        "id": "lQkd6Wp5_gPQ"
      }
    },
    {
      "cell_type": "markdown",
      "source": [
        "En conclusión, Random Forest ha probado ser el modelo más sólido y fiable para este tipo de análisis de emociones en texto, lo que indica que podría ser una magnífica alternativa para trabajos parecidos en el futuro, particularmente cuando se manejan grandes cantidades de información y se requiere una clasificación exacta y eficaz."
      ],
      "metadata": {
        "id": "y3OkXIRD_yIi"
      }
    }
  ],
  "metadata": {
    "colab": {
      "provenance": []
    },
    "kernelspec": {
      "display_name": "Python 3",
      "name": "python3"
    },
    "language_info": {
      "name": "python"
    }
  },
  "nbformat": 4,
  "nbformat_minor": 0
}